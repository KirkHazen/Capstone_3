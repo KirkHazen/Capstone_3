{
 "cells": [
  {
   "cell_type": "markdown",
   "id": "b4728a07",
   "metadata": {},
   "source": [
    "# Data PreProcessing for Hemingway Next Word Prediction"
   ]
  },
  {
   "cell_type": "markdown",
   "id": "ee30d3cc",
   "metadata": {},
   "source": [
    "## Introduction\n",
    "\n",
    "Preprocessing for NLP will involve here the tokenization and word embeddings using the cleaned text wrangled in the first step. Assessments of ngrams and similarity comparisons will be made here. \n",
    "\n",
    "Using *The Sun Also Rises* by Ernest Hemingway, this project will craft a next word prediction NLP object using Google's BERT. The wonderful venture Project Guttenberg (https://www.gutenberg.org/) provides free texts in electronic format. The text for this effort was chosen from Project Guttenberg and cleaned of its leading matter and liscence information."
   ]
  },
  {
   "cell_type": "markdown",
   "id": "f2baadc1",
   "metadata": {},
   "source": [
    "## Table of Contents <a id=\"id0\"></a>\n",
    "\n",
    "1. [Import Packages](#id1)\n",
    "2. [Load the Data](#id2)\n",
    "3. [Processing on Punctuation for Ngrams](#id3)\n",
    "8. [Word Embeddings](#id4)"
   ]
  },
  {
   "cell_type": "markdown",
   "id": "ae3d7a13",
   "metadata": {},
   "source": [
    "<a id=\"id1\"></a>"
   ]
  },
  {
   "cell_type": "markdown",
   "id": "e8ed29bb",
   "metadata": {},
   "source": [
    "[Back to the TOC](#id0)\n"
   ]
  },
  {
   "cell_type": "markdown",
   "id": "75e4483e",
   "metadata": {},
   "source": [
    "## Import Packages <a id=\"id1\"></a>"
   ]
  },
  {
   "cell_type": "code",
   "execution_count": 52,
   "id": "8d6afac9",
   "metadata": {},
   "outputs": [],
   "source": [
    "import pandas as pd\n",
    "import spacy\n",
    "import spacy_cleaner\n",
    "from spacy_cleaner.processing import removers, replacers, mutators\n",
    "from spacy.matcher import Matcher\n",
    "from nltk import bigrams\n",
    "from nltk.tokenize import RegexpTokenizer\n",
    "import nltk, re, string, collections\n",
    "from nltk.lm import NgramCounter\n",
    "from nltk.util import ngrams\n",
    "from nltk.corpus import stopwords\n",
    "from nltk.tokenize import word_tokenize\n",
    "import numpy as np\n",
    "import matplotlib.pyplot as plt\n",
    "from wordcloud import WordCloud, STOPWORDS\n",
    "from PIL import Image\n",
    "import seaborn as sns\n",
    "from IPython.display import Image"
   ]
  },
  {
   "cell_type": "markdown",
   "id": "6d5ff52c",
   "metadata": {},
   "source": [
    "[Back to the TOC](#id0)\n"
   ]
  },
  {
   "cell_type": "markdown",
   "id": "0138e9c6",
   "metadata": {},
   "source": [
    "## Load the Data <a id=\"id2\"></a>"
   ]
  },
  {
   "cell_type": "markdown",
   "id": "19c9a9fb",
   "metadata": {},
   "source": [
    "The novel *The Sun Also Rises* by Ernest Hemingway can be found at Project Gutenberg here in several formats: https://www.gutenberg.org/ebooks/67138 . "
   ]
  },
  {
   "cell_type": "code",
   "execution_count": 53,
   "id": "e467b14f",
   "metadata": {},
   "outputs": [
    {
     "name": "stdout",
     "output_type": "stream",
     "text": [
      "The text has 182,924 separate items\n"
     ]
    }
   ],
   "source": [
    "### The Project Gutenberg information and publisher copyright information was removed manually with a text processing program.\n",
    "### Working from text_clean, the result of the data wrangling\n",
    "# Loading the dataset\n",
    "path = 'text_clean.txt'\n",
    "text = open(path).read()\n",
    "\n",
    "print('The text has {:,} separate items'.format(len(text)))"
   ]
  },
  {
   "cell_type": "markdown",
   "id": "dfe992e4",
   "metadata": {},
   "source": [
    "[Back to the TOC](#id0)\n"
   ]
  },
  {
   "cell_type": "markdown",
   "id": "9c9770d4",
   "metadata": {},
   "source": [
    "<a id=\"id3\"></a>\n",
    "## Processing on Punctuation for Ngrams"
   ]
  },
  {
   "cell_type": "code",
   "execution_count": 59,
   "id": "7a15cc16",
   "metadata": {},
   "outputs": [],
   "source": [
    "### Starting fresh here: Drawing from https://www.kaggle.com/code/scratchpad/notebookdbaabe5532/\n",
    "# Function n_gram: splits the words in order to given parameter\n",
    "# Parameter n: it's the \"n\" number for \"n-gram\"\n",
    "def n_gram(n):                                             \n",
    "    n_grams = ngrams(text.split(), n)\n",
    "    return n_grams"
   ]
  },
  {
   "cell_type": "code",
   "execution_count": 60,
   "id": "f4f72343",
   "metadata": {},
   "outputs": [],
   "source": [
    "### Setting up empty lists to store grams and their frequencies\n",
    "sentences = []\n",
    "df_frequency = []"
   ]
  },
  {
   "cell_type": "code",
   "execution_count": 61,
   "id": "c28e4277",
   "metadata": {},
   "outputs": [],
   "source": [
    "# Function frequency: counts the frequency of the each \"n-gram\" output\n",
    "# Parameter grammed: it takes the function \"n_gram\"s return as value. \n",
    "def frequency(grammed):\n",
    "    sentences.clear()\n",
    "    df_frequency.clear()\n",
    "    freq = nltk.FreqDist(grammed)\n",
    "    for k, v in freq.items():\n",
    "        sentences.append(k)       # Sentences is a list, stores the grams(ignores duplicates)\n",
    "        df_frequency.append(v)    # df_frequency is a list, stores the frequency of grams\n",
    "        "
   ]
  },
  {
   "cell_type": "code",
   "execution_count": 62,
   "id": "daa8a81c",
   "metadata": {},
   "outputs": [],
   "source": [
    "# Function create_plot: it creates a plot for given grams\n",
    "# Parameter num: it's a number to send it to \"n_gram\" function\n",
    "def create_plot(num):\n",
    "    frequency(n_gram(num)) # Send \"num\" parameter to \"n_gram func.\" and send the result to \"frequency func.\"\n",
    "\n",
    "    gram_frame = pd.DataFrame(sentences)   # gram_frame is the data frame to store grams and freq.\n",
    "\n",
    "    gram_frame['frequencies'] = df_frequency\n",
    "    if num == 2:\n",
    "        gram_frame.columns = ['first', 'second', 'frequencies']\n",
    "    if num == 3:\n",
    "        gram_frame.columns = ['first', 'second', 'third', 'frequencies']\n",
    "\n",
    "    gram_frame.sort_values(\"frequencies\", axis=0, ascending=False, inplace=True, na_position='last')\n",
    "\n",
    "    gram_frame = gram_frame.head(20)            # Only take the top 20 of gram_frame\n",
    "\n",
    "    total = sum(df_frequency)\n",
    "\n",
    "    gram_frame[\"ratio\"] = gram_frame['frequencies'].div(total)   # Additional, ratio is added\n",
    "\n",
    "    plt.rcdefaults()\n",
    "    fig, ax = plt.subplots()\n",
    "\n",
    "    if num == 2:\n",
    "        grams = gram_frame[\"first\"] + \" \" + gram_frame[\"second\"]\n",
    "    if num == 3:\n",
    "        grams = gram_frame[\"first\"] + \" \" + gram_frame[\"second\"] + \" \" + gram_frame[\"third\"]\n",
    "\n",
    "    # Create plot\n",
    "    y_pos = np.arange(len(grams))\n",
    "    performance = gram_frame[\"frequencies\"]\n",
    "\n",
    "    ax.barh(y_pos, performance)\n",
    "    ax.set_yticks(y_pos)\n",
    "    ax.set_yticklabels(grams)\n",
    "    ax.invert_yaxis()  # labels read top-to-bottom\n",
    "    ax.set_xlabel('Frequency')\n",
    "    ax.set_title('2-3 grams')\n",
    "\n",
    "    plt.show()\n",
    "    display(gram_frame)"
   ]
  },
  {
   "cell_type": "code",
   "execution_count": 63,
   "id": "ba1cade6",
   "metadata": {},
   "outputs": [
    {
     "data": {
      "image/png": "[encoded data removed]",
      "text/plain": [
       "<Figure size 640x480 with 1 Axes>"
      ]
     },
     "metadata": {},
     "output_type": "display_data"
    },
    {
     "data": {
      "text/html": [
       "<div>\n",
       "<style scoped>\n",
       "    .dataframe tbody tr th:only-of-type {\n",
       "        vertical-align: middle;\n",
       "    }\n",
       "\n",
       "    .dataframe tbody tr th {\n",
       "        vertical-align: top;\n",
       "    }\n",
       "\n",
       "    .dataframe thead th {\n",
       "        text-align: right;\n",
       "    }\n",
       "</style>\n",
       "<table border=\"1\" class=\"dataframe\">\n",
       "  <thead>\n",
       "    <tr style=\"text-align: right;\">\n",
       "      <th></th>\n",
       "      <th>first</th>\n",
       "      <th>second</th>\n",
       "      <th>frequencies</th>\n",
       "      <th>ratio</th>\n",
       "    </tr>\n",
       "  </thead>\n",
       "  <tbody>\n",
       "    <tr>\n",
       "      <th>6474</th>\n",
       "      <td>bill</td>\n",
       "      <td>said</td>\n",
       "      <td>130</td>\n",
       "      <td>0.004516</td>\n",
       "    </tr>\n",
       "    <tr>\n",
       "      <th>1944</th>\n",
       "      <td>brett</td>\n",
       "      <td>said</td>\n",
       "      <td>122</td>\n",
       "      <td>0.004238</td>\n",
       "    </tr>\n",
       "    <tr>\n",
       "      <th>7329</th>\n",
       "      <td>mike</td>\n",
       "      <td>said</td>\n",
       "      <td>87</td>\n",
       "      <td>0.003023</td>\n",
       "    </tr>\n",
       "    <tr>\n",
       "      <th>46</th>\n",
       "      <td>robert</td>\n",
       "      <td>cohn</td>\n",
       "      <td>55</td>\n",
       "      <td>0.001911</td>\n",
       "    </tr>\n",
       "    <tr>\n",
       "      <th>492</th>\n",
       "      <td>dont</td>\n",
       "      <td>know</td>\n",
       "      <td>52</td>\n",
       "      <td>0.001807</td>\n",
       "    </tr>\n",
       "    <tr>\n",
       "      <th>1785</th>\n",
       "      <td>im</td>\n",
       "      <td>going</td>\n",
       "      <td>40</td>\n",
       "      <td>0.001390</td>\n",
       "    </tr>\n",
       "    <tr>\n",
       "      <th>466</th>\n",
       "      <td>cohn</td>\n",
       "      <td>said</td>\n",
       "      <td>40</td>\n",
       "      <td>0.001390</td>\n",
       "    </tr>\n",
       "    <tr>\n",
       "      <th>6628</th>\n",
       "      <td>said</td>\n",
       "      <td>bill</td>\n",
       "      <td>39</td>\n",
       "      <td>0.001355</td>\n",
       "    </tr>\n",
       "    <tr>\n",
       "      <th>2008</th>\n",
       "      <td>said</td>\n",
       "      <td>brett</td>\n",
       "      <td>38</td>\n",
       "      <td>0.001320</td>\n",
       "    </tr>\n",
       "    <tr>\n",
       "      <th>5411</th>\n",
       "      <td>san</td>\n",
       "      <td>sebastian</td>\n",
       "      <td>33</td>\n",
       "      <td>0.001146</td>\n",
       "    </tr>\n",
       "    <tr>\n",
       "      <th>2531</th>\n",
       "      <td>said</td>\n",
       "      <td>im</td>\n",
       "      <td>32</td>\n",
       "      <td>0.001112</td>\n",
       "    </tr>\n",
       "    <tr>\n",
       "      <th>1794</th>\n",
       "      <td>said</td>\n",
       "      <td>dont</td>\n",
       "      <td>32</td>\n",
       "      <td>0.001112</td>\n",
       "    </tr>\n",
       "    <tr>\n",
       "      <th>2450</th>\n",
       "      <td>dont</td>\n",
       "      <td>think</td>\n",
       "      <td>28</td>\n",
       "      <td>0.000973</td>\n",
       "    </tr>\n",
       "    <tr>\n",
       "      <th>1547</th>\n",
       "      <td>yes</td>\n",
       "      <td>said</td>\n",
       "      <td>27</td>\n",
       "      <td>0.000938</td>\n",
       "    </tr>\n",
       "    <tr>\n",
       "      <th>15784</th>\n",
       "      <td>pedro</td>\n",
       "      <td>romero</td>\n",
       "      <td>23</td>\n",
       "      <td>0.000799</td>\n",
       "    </tr>\n",
       "    <tr>\n",
       "      <th>7340</th>\n",
       "      <td>said</td>\n",
       "      <td>mike</td>\n",
       "      <td>19</td>\n",
       "      <td>0.000660</td>\n",
       "    </tr>\n",
       "    <tr>\n",
       "      <th>1512</th>\n",
       "      <td>shook</td>\n",
       "      <td>hands</td>\n",
       "      <td>17</td>\n",
       "      <td>0.000591</td>\n",
       "    </tr>\n",
       "    <tr>\n",
       "      <th>1166</th>\n",
       "      <td>whats</td>\n",
       "      <td>matter</td>\n",
       "      <td>17</td>\n",
       "      <td>0.000591</td>\n",
       "    </tr>\n",
       "    <tr>\n",
       "      <th>2148</th>\n",
       "      <td>good</td>\n",
       "      <td>night</td>\n",
       "      <td>16</td>\n",
       "      <td>0.000556</td>\n",
       "    </tr>\n",
       "    <tr>\n",
       "      <th>6985</th>\n",
       "      <td>bill</td>\n",
       "      <td>asked</td>\n",
       "      <td>16</td>\n",
       "      <td>0.000556</td>\n",
       "    </tr>\n",
       "  </tbody>\n",
       "</table>\n",
       "</div>"
      ],
      "text/plain": [
       "        first     second  frequencies     ratio\n",
       "6474     bill       said          130  0.004516\n",
       "1944    brett       said          122  0.004238\n",
       "7329     mike       said           87  0.003023\n",
       "46     robert       cohn           55  0.001911\n",
       "492      dont       know           52  0.001807\n",
       "1785       im      going           40  0.001390\n",
       "466      cohn       said           40  0.001390\n",
       "6628     said       bill           39  0.001355\n",
       "2008     said      brett           38  0.001320\n",
       "5411      san  sebastian           33  0.001146\n",
       "2531     said         im           32  0.001112\n",
       "1794     said       dont           32  0.001112\n",
       "2450     dont      think           28  0.000973\n",
       "1547      yes       said           27  0.000938\n",
       "15784   pedro     romero           23  0.000799\n",
       "7340     said       mike           19  0.000660\n",
       "1512    shook      hands           17  0.000591\n",
       "1166    whats     matter           17  0.000591\n",
       "2148     good      night           16  0.000556\n",
       "6985     bill      asked           16  0.000556"
      ]
     },
     "metadata": {},
     "output_type": "display_data"
    }
   ],
   "source": [
    "create_plot(2)   # Create plot for bigram "
   ]
  },
  {
   "cell_type": "code",
   "execution_count": 64,
   "id": "e86aa0df",
   "metadata": {
    "scrolled": true
   },
   "outputs": [
    {
     "data": {
      "image/png": "[encoded data removed]",
      "text/plain": [
       "<Figure size 640x480 with 1 Axes>"
      ]
     },
     "metadata": {},
     "output_type": "display_data"
    },
    {
     "data": {
      "text/html": [
       "<div>\n",
       "<style scoped>\n",
       "    .dataframe tbody tr th:only-of-type {\n",
       "        vertical-align: middle;\n",
       "    }\n",
       "\n",
       "    .dataframe tbody tr th {\n",
       "        vertical-align: top;\n",
       "    }\n",
       "\n",
       "    .dataframe thead th {\n",
       "        text-align: right;\n",
       "    }\n",
       "</style>\n",
       "<table border=\"1\" class=\"dataframe\">\n",
       "  <thead>\n",
       "    <tr style=\"text-align: right;\">\n",
       "      <th></th>\n",
       "      <th>first</th>\n",
       "      <th>second</th>\n",
       "      <th>third</th>\n",
       "      <th>frequencies</th>\n",
       "      <th>ratio</th>\n",
       "    </tr>\n",
       "  </thead>\n",
       "  <tbody>\n",
       "    <tr>\n",
       "      <th>2708</th>\n",
       "      <td>said</td>\n",
       "      <td>im</td>\n",
       "      <td>going</td>\n",
       "      <td>9</td>\n",
       "      <td>0.000313</td>\n",
       "    </tr>\n",
       "    <tr>\n",
       "      <th>2707</th>\n",
       "      <td>brett</td>\n",
       "      <td>said</td>\n",
       "      <td>im</td>\n",
       "      <td>8</td>\n",
       "      <td>0.000278</td>\n",
       "    </tr>\n",
       "    <tr>\n",
       "      <th>2285</th>\n",
       "      <td>said</td>\n",
       "      <td>good</td>\n",
       "      <td>night</td>\n",
       "      <td>8</td>\n",
       "      <td>0.000278</td>\n",
       "    </tr>\n",
       "    <tr>\n",
       "      <th>14895</th>\n",
       "      <td>brett</td>\n",
       "      <td>said</td>\n",
       "      <td>dont</td>\n",
       "      <td>6</td>\n",
       "      <td>0.000208</td>\n",
       "    </tr>\n",
       "    <tr>\n",
       "      <th>2517</th>\n",
       "      <td>said</td>\n",
       "      <td>dont</td>\n",
       "      <td>know</td>\n",
       "      <td>6</td>\n",
       "      <td>0.000208</td>\n",
       "    </tr>\n",
       "    <tr>\n",
       "      <th>2771</th>\n",
       "      <td>oh</td>\n",
       "      <td>yes</td>\n",
       "      <td>said</td>\n",
       "      <td>5</td>\n",
       "      <td>0.000174</td>\n",
       "    </tr>\n",
       "    <tr>\n",
       "      <th>21085</th>\n",
       "      <td>mike</td>\n",
       "      <td>bill</td>\n",
       "      <td>said</td>\n",
       "      <td>5</td>\n",
       "      <td>0.000174</td>\n",
       "    </tr>\n",
       "    <tr>\n",
       "      <th>2157</th>\n",
       "      <td>robert</td>\n",
       "      <td>cohn</td>\n",
       "      <td>said</td>\n",
       "      <td>5</td>\n",
       "      <td>0.000174</td>\n",
       "    </tr>\n",
       "    <tr>\n",
       "      <th>1623</th>\n",
       "      <td>said</td>\n",
       "      <td>yes</td>\n",
       "      <td>said</td>\n",
       "      <td>5</td>\n",
       "      <td>0.000174</td>\n",
       "    </tr>\n",
       "    <tr>\n",
       "      <th>3397</th>\n",
       "      <td>told</td>\n",
       "      <td>knew</td>\n",
       "      <td>people</td>\n",
       "      <td>4</td>\n",
       "      <td>0.000139</td>\n",
       "    </tr>\n",
       "    <tr>\n",
       "      <th>18020</th>\n",
       "      <td>bill</td>\n",
       "      <td>said</td>\n",
       "      <td>cohn</td>\n",
       "      <td>4</td>\n",
       "      <td>0.000139</td>\n",
       "    </tr>\n",
       "    <tr>\n",
       "      <th>5954</th>\n",
       "      <td>im</td>\n",
       "      <td>going</td>\n",
       "      <td>away</td>\n",
       "      <td>4</td>\n",
       "      <td>0.000139</td>\n",
       "    </tr>\n",
       "    <tr>\n",
       "      <th>20010</th>\n",
       "      <td>looking</td>\n",
       "      <td>straight</td>\n",
       "      <td>ahead</td>\n",
       "      <td>4</td>\n",
       "      <td>0.000139</td>\n",
       "    </tr>\n",
       "    <tr>\n",
       "      <th>8679</th>\n",
       "      <td>mike</td>\n",
       "      <td>said</td>\n",
       "      <td>know</td>\n",
       "      <td>4</td>\n",
       "      <td>0.000139</td>\n",
       "    </tr>\n",
       "    <tr>\n",
       "      <th>7781</th>\n",
       "      <td>bill</td>\n",
       "      <td>said</td>\n",
       "      <td>brett</td>\n",
       "      <td>4</td>\n",
       "      <td>0.000139</td>\n",
       "    </tr>\n",
       "    <tr>\n",
       "      <th>15985</th>\n",
       "      <td>know</td>\n",
       "      <td>brett</td>\n",
       "      <td>said</td>\n",
       "      <td>4</td>\n",
       "      <td>0.000139</td>\n",
       "    </tr>\n",
       "    <tr>\n",
       "      <th>9701</th>\n",
       "      <td>robert</td>\n",
       "      <td>cohn</td>\n",
       "      <td>asked</td>\n",
       "      <td>4</td>\n",
       "      <td>0.000139</td>\n",
       "    </tr>\n",
       "    <tr>\n",
       "      <th>7926</th>\n",
       "      <td>right</td>\n",
       "      <td>bill</td>\n",
       "      <td>said</td>\n",
       "      <td>4</td>\n",
       "      <td>0.000139</td>\n",
       "    </tr>\n",
       "    <tr>\n",
       "      <th>3409</th>\n",
       "      <td>took</td>\n",
       "      <td>long</td>\n",
       "      <td>drink</td>\n",
       "      <td>4</td>\n",
       "      <td>0.000139</td>\n",
       "    </tr>\n",
       "    <tr>\n",
       "      <th>6841</th>\n",
       "      <td>come</td>\n",
       "      <td>brett</td>\n",
       "      <td>said</td>\n",
       "      <td>4</td>\n",
       "      <td>0.000139</td>\n",
       "    </tr>\n",
       "  </tbody>\n",
       "</table>\n",
       "</div>"
      ],
      "text/plain": [
       "         first    second   third  frequencies     ratio\n",
       "2708      said        im   going            9  0.000313\n",
       "2707     brett      said      im            8  0.000278\n",
       "2285      said      good   night            8  0.000278\n",
       "14895    brett      said    dont            6  0.000208\n",
       "2517      said      dont    know            6  0.000208\n",
       "2771        oh       yes    said            5  0.000174\n",
       "21085     mike      bill    said            5  0.000174\n",
       "2157    robert      cohn    said            5  0.000174\n",
       "1623      said       yes    said            5  0.000174\n",
       "3397      told      knew  people            4  0.000139\n",
       "18020     bill      said    cohn            4  0.000139\n",
       "5954        im     going    away            4  0.000139\n",
       "20010  looking  straight   ahead            4  0.000139\n",
       "8679      mike      said    know            4  0.000139\n",
       "7781      bill      said   brett            4  0.000139\n",
       "15985     know     brett    said            4  0.000139\n",
       "9701    robert      cohn   asked            4  0.000139\n",
       "7926     right      bill    said            4  0.000139\n",
       "3409      took      long   drink            4  0.000139\n",
       "6841      come     brett    said            4  0.000139"
      ]
     },
     "metadata": {},
     "output_type": "display_data"
    }
   ],
   "source": [
    "create_plot(3)   # Create plot for trigram"
   ]
  },
  {
   "cell_type": "markdown",
   "id": "afe6c2d7",
   "metadata": {},
   "source": [
    "[Back to the TOC](#id0)"
   ]
  },
  {
   "cell_type": "markdown",
   "id": "529915c1",
   "metadata": {},
   "source": [
    "<a id=\"id4\"></a>\n",
    "## Word Embeddings"
   ]
  },
  {
   "cell_type": "code",
   "execution_count": null,
   "id": "df97d1f1",
   "metadata": {},
   "outputs": [],
   "source": [
    "### Working with their English pipeline (medium)\n",
    "nlp = spacy.load(\"en_core_web_md\")\n",
    "nlp"
   ]
  },
  {
   "cell_type": "code",
   "execution_count": null,
   "id": "57c121ef",
   "metadata": {},
   "outputs": [],
   "source": [
    "SAR_fresh = nlp(text)"
   ]
  },
  {
   "cell_type": "code",
   "execution_count": null,
   "id": "278b95fe",
   "metadata": {},
   "outputs": [],
   "source": [
    "SAR_fresh[920:1000]"
   ]
  },
  {
   "cell_type": "code",
   "execution_count": null,
   "id": "7157c6cc",
   "metadata": {},
   "outputs": [],
   "source": [
    "#A truncated quick look at 10% of the vector\n",
    "print(SAR_fresh[1000].text, SAR_fresh[1000].vector[:30])"
   ]
  },
  {
   "cell_type": "code",
   "execution_count": null,
   "id": "2e298c71",
   "metadata": {},
   "outputs": [],
   "source": [
    "### A quick comparison to see if the word embeddings are actually working\n",
    "look = SAR_fresh[1000]\n",
    "like = SAR_fresh[1001]\n",
    "look.similarity(like)"
   ]
  },
  {
   "cell_type": "markdown",
   "id": "1a1d311d",
   "metadata": {},
   "source": [
    "Let's compare the first and last chapter of the book to see if there is much difference across the novel. It might be that predicting from a model retrained on the last chapters is different from one retrained on the first chapters."
   ]
  },
  {
   "cell_type": "code",
   "execution_count": null,
   "id": "ad244632",
   "metadata": {},
   "outputs": [],
   "source": [
    "### Will look at Ch 1 vs Ch 19 for similarities\n",
    "# Loading the dataset\n",
    "path1 = 'ch1.txt'\n",
    "chapter_1 = open(path1).read().lower()\n",
    "\n",
    "print('The text has {:,} separate items'.format(len(chapter_1)))"
   ]
  },
  {
   "cell_type": "code",
   "execution_count": null,
   "id": "fab476f1",
   "metadata": {},
   "outputs": [],
   "source": [
    "### Will look at Ch 1 vs Ch 19 for similarities\n",
    "# Loading the dataset\n",
    "path1 = 'ch19.txt'\n",
    "chapter_19 = open(path1).read().lower()\n",
    "\n",
    "print('The text has {:,} separate items'.format(len(chapter_19)))"
   ]
  },
  {
   "cell_type": "code",
   "execution_count": null,
   "id": "1b65cc92",
   "metadata": {},
   "outputs": [],
   "source": [
    "print(chapter_1[100:152],\"\\n\", chapter_19[100:152])"
   ]
  },
  {
   "cell_type": "code",
   "execution_count": null,
   "id": "a1f7d255",
   "metadata": {},
   "outputs": [],
   "source": [
    "CH1 = nlp(chapter_1)"
   ]
  },
  {
   "cell_type": "code",
   "execution_count": null,
   "id": "0e1a6855",
   "metadata": {},
   "outputs": [],
   "source": [
    "CH19 = nlp(chapter_19)"
   ]
  },
  {
   "cell_type": "code",
   "execution_count": null,
   "id": "ee67edc3",
   "metadata": {
    "scrolled": true
   },
   "outputs": [],
   "source": [
    "print(\"The similarity score between Chapter 1 and Chapter 19 is {}\".\\\n",
    "      format(round(CH1.similarity(CH19),2)))"
   ]
  },
  {
   "cell_type": "markdown",
   "id": "d601857e",
   "metadata": {},
   "source": [
    "This similarity score between the first and last chapter is quite high considering that the last chapter is almost five times as large as the first chapter. As the similarity score appears to be consistent throughout the novel, we can use any part (or the entire novel) to work towards next word prediction."
   ]
  }
 ],
 "metadata": {
  "kernelspec": {
   "display_name": "Python 3 (ipykernel)",
   "language": "python",
   "name": "python3"
  },
  "language_info": {
   "codemirror_mode": {
    "name": "ipython",
    "version": 3
   },
   "file_extension": ".py",
   "mimetype": "text/x-python",
   "name": "python",
   "nbconvert_exporter": "python",
   "pygments_lexer": "ipython3",
   "version": "3.9.7"
  }
 },
 "nbformat": 4,
 "nbformat_minor": 5
}
