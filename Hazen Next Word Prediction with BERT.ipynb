{
 "cells": [
  {
   "cell_type": "markdown",
   "id": "10466f6a",
   "metadata": {
    "id": "10466f6a"
   },
   "source": [
    "The first step will be to get a set of similar sentences from SAR that can be masked for DistilBERT to work on. I will pull the sentences from the second half of SAR and train DistilBERT on the first half. The matcher from spaCy can be use to pull a certain number of sentences."
   ]
  },
  {
   "cell_type": "markdown",
   "id": "652b9be2",
   "metadata": {
    "id": "652b9be2"
   },
   "source": [
    "## Table of Contents <a id=\"id0\"></a>\n",
    "\n",
    "1. [Import Packages](#id1)\n",
    "2. [Load the Data](#id2)\n",
    "3. [Finding Matched Spans](#id3)\n",
    "4. [Masking Sentences](#id4)\n",
    "5. [Unmasking with Models](#id5)\n",
    "6. [Unpacking the Prediction Dictionary](#id6)\n",
    "7. [Confusion Matrix Score](#id7)\n",
    "8. [Similarity Scores Between Actual and Predicted](#id8)"
   ]
  },
  {
   "cell_type": "markdown",
   "id": "29e3df43",
   "metadata": {
    "id": "29e3df43"
   },
   "source": [
    "## Import Packages <a id=\"id1\"></a>\n"
   ]
  },
  {
   "cell_type": "code",
   "execution_count": 1,
   "id": "0665beee",
   "metadata": {
    "colab": {
     "base_uri": "https://localhost:8080/"
    },
    "executionInfo": {
     "elapsed": 9217,
     "status": "ok",
     "timestamp": 1672946776817,
     "user": {
      "displayName": "Kirk Hazen",
      "userId": "00188619744813179443"
     },
     "user_tz": 300
    },
    "id": "0665beee",
    "outputId": "594ed2c7-b26a-4cbb-ff20-3d4dbaae5b21"
   },
   "outputs": [],
   "source": [
    "\n",
    "import string\n",
    "import pandas as pd\n",
    "#from transformers import BertTokenizer, BertForMaskedLM\n",
    "import transformers\n",
    "#from transformers import BertTokenizer, TFBertModel\n",
    "from transformers import pipeline\n",
    "import torch\n",
    "import sklearn\n",
    "from sklearn import metrics\n",
    "from sklearn.metrics import precision_recall_fscore_support as score\n",
    "import spacy \n",
    "from spacy.matcher import Matcher\n",
    "import matplotlib.pyplot as plt\n",
    "import numpy\n",
    "from sklearn import metrics\n",
    "import scipy.stats as stats\n",
    "\n"
   ]
  },
  {
   "cell_type": "markdown",
   "id": "db9904b4",
   "metadata": {
    "id": "db9904b4"
   },
   "source": [
    "[Back to the TOC](#id0)"
   ]
  },
  {
   "cell_type": "markdown",
   "id": "013054d4",
   "metadata": {
    "id": "013054d4"
   },
   "source": [
    "## Load the Data <a id=\"id2\"></a>\n"
   ]
  },
  {
   "cell_type": "markdown",
   "id": "1296de2b-1152-46c7-81fb-9b52bce240a4",
   "metadata": {
    "tags": []
   },
   "source": [
    "### Working with the Cleaned Data"
   ]
  },
  {
   "cell_type": "code",
   "execution_count": 1,
   "id": "0c780be4",
   "metadata": {
    "colab": {
     "base_uri": "https://localhost:8080/"
    },
    "executionInfo": {
     "elapsed": 166,
     "status": "ok",
     "timestamp": 1673470498116,
     "user": {
      "displayName": "Kirk Hazen",
      "userId": "00188619744813179443"
     },
     "user_tz": 300
    },
    "id": "0c780be4",
    "outputId": "9700fea5-20ea-46f5-8a0e-3b754804aa8e",
    "tags": []
   },
   "outputs": [
    {
     "name": "stdout",
     "output_type": "stream",
     "text": [
      "The text has 182,924 separate items\n"
     ]
    }
   ],
   "source": [
    "### Get data\n",
    "with open(\"TXT files/text_clean.txt\") as file_object:\n",
    "  text = file_object.read()\n",
    "\n",
    "print('The text has {:,} separate items'.format(len(text)))\n"
   ]
  },
  {
   "cell_type": "code",
   "execution_count": 2,
   "id": "332d76d3",
   "metadata": {
    "id": "332d76d3"
   },
   "outputs": [],
   "source": [
    "first_half = text[:91462]\n",
    "second_half = text[91463:]\n"
   ]
  },
  {
   "cell_type": "code",
   "execution_count": 38,
   "id": "07c7bd59",
   "metadata": {
    "colab": {
     "base_uri": "https://localhost:8080/",
     "height": 53
    },
    "executionInfo": {
     "elapsed": 171,
     "status": "ok",
     "timestamp": 1673470502944,
     "user": {
      "displayName": "Kirk Hazen",
      "userId": "00188619744813179443"
     },
     "user_tz": 300
    },
    "id": "07c7bd59",
    "outputId": "12632c23-5659-44dc-e47a-e3e3f8f67a51"
   },
   "outputs": [
    {
     "data": {
      "text/plain": [
       "'us open bundles sidewalk went hotel stairs met montoya shook hands smiling embarrassed way friends said mr campbell yes mr cohn mr campbell lady ashle'"
      ]
     },
     "execution_count": 38,
     "metadata": {},
     "output_type": "execute_result"
    }
   ],
   "source": [
    "second_half[:150]"
   ]
  },
  {
   "cell_type": "code",
   "execution_count": 3,
   "id": "dcYRoGkZh3Ig",
   "metadata": {
    "id": "dcYRoGkZh3Ig"
   },
   "outputs": [],
   "source": [
    "### For the pre-training of DistilBert, let's get the first half into a column format\n",
    "test=first_half.split()"
   ]
  },
  {
   "cell_type": "code",
   "execution_count": 4,
   "id": "WrK5rOi3qnzC",
   "metadata": {
    "colab": {
     "base_uri": "https://localhost:8080/"
    },
    "executionInfo": {
     "elapsed": 178,
     "status": "ok",
     "timestamp": 1673473178209,
     "user": {
      "displayName": "Kirk Hazen",
      "userId": "00188619744813179443"
     },
     "user_tz": 300
    },
    "id": "WrK5rOi3qnzC",
    "outputId": "2715d748-7369-47bd-f834-60b177630806",
    "tags": []
   },
   "outputs": [
    {
     "name": "stdout",
     "output_type": "stream",
     "text": [
      "[['lost', 'generation', '—gertrude', 'stein', 'conversation'], ['generation', 'passeth', 'away', 'generation', 'cometh'], ['earth', 'abideth', 'forever', 'sun', 'ariseth'], ['sun', 'goeth', 'hasteth', 'place', 'arose'], ['wind', 'goeth', 'south', 'turneth', 'unto']]\n"
     ]
    }
   ],
   "source": [
    "n = 5\n",
    "# using list comprehension\n",
    "result = [test[i:i + n] for i in range(0, len(test), n)]\n",
    "print(result[:5])"
   ]
  },
  {
   "cell_type": "code",
   "execution_count": 43,
   "id": "_i-VZg-2xmg7",
   "metadata": {
    "id": "_i-VZg-2xmg7",
    "tags": []
   },
   "outputs": [],
   "source": [
    "import csv\n",
    "with open(\"result.csv\", \"w\") as f:\n",
    "    wr = csv.writer(f)\n",
    "    wr.writerows(result)"
   ]
  },
  {
   "cell_type": "code",
   "execution_count": 44,
   "id": "LpTu1Q-XzsES",
   "metadata": {
    "id": "LpTu1Q-XzsES",
    "tags": []
   },
   "outputs": [],
   "source": [
    "import pandas as pd\n",
    "df=pd.read_csv(\"result.csv\", header=None)"
   ]
  },
  {
   "cell_type": "code",
   "execution_count": 45,
   "id": "fZDfAXD90FmM",
   "metadata": {
    "colab": {
     "base_uri": "https://localhost:8080/",
     "height": 206
    },
    "executionInfo": {
     "elapsed": 161,
     "status": "ok",
     "timestamp": 1673473942778,
     "user": {
      "displayName": "Kirk Hazen",
      "userId": "00188619744813179443"
     },
     "user_tz": 300
    },
    "id": "fZDfAXD90FmM",
    "outputId": "92ed9cfa-119b-44e4-dc6a-6822a593bfca"
   },
   "outputs": [
    {
     "data": {
      "text/html": [
       "<div>\n",
       "<style scoped>\n",
       "    .dataframe tbody tr th:only-of-type {\n",
       "        vertical-align: middle;\n",
       "    }\n",
       "\n",
       "    .dataframe tbody tr th {\n",
       "        vertical-align: top;\n",
       "    }\n",
       "\n",
       "    .dataframe thead th {\n",
       "        text-align: right;\n",
       "    }\n",
       "</style>\n",
       "<table border=\"1\" class=\"dataframe\">\n",
       "  <thead>\n",
       "    <tr style=\"text-align: right;\">\n",
       "      <th></th>\n",
       "      <th>0</th>\n",
       "      <th>1</th>\n",
       "      <th>2</th>\n",
       "      <th>3</th>\n",
       "      <th>4</th>\n",
       "    </tr>\n",
       "  </thead>\n",
       "  <tbody>\n",
       "    <tr>\n",
       "      <th>0</th>\n",
       "      <td>lost</td>\n",
       "      <td>generation</td>\n",
       "      <td>—gertrude</td>\n",
       "      <td>stein</td>\n",
       "      <td>conversation</td>\n",
       "    </tr>\n",
       "    <tr>\n",
       "      <th>1</th>\n",
       "      <td>generation</td>\n",
       "      <td>passeth</td>\n",
       "      <td>away</td>\n",
       "      <td>generation</td>\n",
       "      <td>cometh</td>\n",
       "    </tr>\n",
       "    <tr>\n",
       "      <th>2</th>\n",
       "      <td>earth</td>\n",
       "      <td>abideth</td>\n",
       "      <td>forever</td>\n",
       "      <td>sun</td>\n",
       "      <td>ariseth</td>\n",
       "    </tr>\n",
       "    <tr>\n",
       "      <th>3</th>\n",
       "      <td>sun</td>\n",
       "      <td>goeth</td>\n",
       "      <td>hasteth</td>\n",
       "      <td>place</td>\n",
       "      <td>arose</td>\n",
       "    </tr>\n",
       "    <tr>\n",
       "      <th>4</th>\n",
       "      <td>wind</td>\n",
       "      <td>goeth</td>\n",
       "      <td>south</td>\n",
       "      <td>turneth</td>\n",
       "      <td>unto</td>\n",
       "    </tr>\n",
       "  </tbody>\n",
       "</table>\n",
       "</div>"
      ],
      "text/plain": [
       "            0           1          2           3             4\n",
       "0        lost  generation  —gertrude       stein  conversation\n",
       "1  generation     passeth       away  generation        cometh\n",
       "2       earth     abideth    forever         sun       ariseth\n",
       "3         sun       goeth    hasteth       place         arose\n",
       "4        wind       goeth      south     turneth          unto"
      ]
     },
     "execution_count": 45,
     "metadata": {},
     "output_type": "execute_result"
    }
   ],
   "source": [
    "df.head()"
   ]
  },
  {
   "cell_type": "markdown",
   "id": "e333551f-8198-42de-8263-2aae1e619ea9",
   "metadata": {
    "tags": []
   },
   "source": [
    "### Pulling in Unclean Text"
   ]
  },
  {
   "cell_type": "code",
   "execution_count": 29,
   "id": "UhjOQ4KBW2fw",
   "metadata": {
    "id": "UhjOQ4KBW2fw",
    "tags": []
   },
   "outputs": [
    {
     "name": "stdout",
     "output_type": "stream",
     "text": [
      "The text has 382,436 separate items\n"
     ]
    }
   ],
   "source": [
    "###restarting here with the not cleaned text for DistilBERT comparison\n",
    "with open(\"Sun_Also_Rises.txt\") as file_object:\n",
    "  text2 = file_object.read()\n",
    "\n",
    "print('The text has {:,} separate items'.format(len(text2)))\n"
   ]
  },
  {
   "cell_type": "code",
   "execution_count": 51,
   "id": "caa7e6e7-f2e3-45dd-95a4-b29a49ac3ef4",
   "metadata": {},
   "outputs": [],
   "source": [
    "first_half2 = text2[:91462]\n",
    "second_half2 = text2[91463:]"
   ]
  },
  {
   "cell_type": "code",
   "execution_count": 53,
   "id": "5ef4f81c",
   "metadata": {
    "colab": {
     "base_uri": "https://localhost:8080/"
    },
    "executionInfo": {
     "elapsed": 1103,
     "status": "ok",
     "timestamp": 1672946826050,
     "user": {
      "displayName": "Kirk Hazen",
      "userId": "00188619744813179443"
     },
     "user_tz": 300
    },
    "id": "5ef4f81c",
    "outputId": "fbef877e-2677-4cfd-9fe6-8ef53abd3ace",
    "tags": []
   },
   "outputs": [
    {
     "data": {
      "text/plain": [
       "<spacy.lang.en.English at 0x7fc38854e6d0>"
      ]
     },
     "execution_count": 53,
     "metadata": {},
     "output_type": "execute_result"
    }
   ],
   "source": [
    "nlp = spacy.load(\"en_core_web_sm\")\n",
    "nlp"
   ]
  },
  {
   "cell_type": "code",
   "execution_count": 63,
   "id": "45a168de-693a-467d-a7e5-d2a4ed0e684c",
   "metadata": {},
   "outputs": [],
   "source": [
    "unclean1 = nlp(first_half2)"
   ]
  },
  {
   "cell_type": "code",
   "execution_count": 63,
   "id": "544086dd",
   "metadata": {},
   "outputs": [],
   "source": [
    "unclean1 = nlp(first_half2)"
   ]
  },
  {
   "cell_type": "markdown",
   "id": "5c87bd63",
   "metadata": {
    "id": "5c87bd63"
   },
   "source": [
    "[Back to the TOC](#id0)"
   ]
  },
  {
   "cell_type": "markdown",
   "id": "0530db3a",
   "metadata": {
    "id": "0530db3a"
   },
   "source": [
    "## Finding Matched Spans <a id=\"id3\"></a>"
   ]
  },
  {
   "cell_type": "code",
   "execution_count": 55,
   "id": "e42453ff-c547-4d33-9c22-1941cc463054",
   "metadata": {
    "tags": []
   },
   "outputs": [
    {
     "name": "stdout",
     "output_type": "stream",
     "text": [
      "[]\n"
     ]
    }
   ],
   "source": [
    "### Need to switch it up for the full text\n",
    "### Working with Matcher to find appropriate sentences\n",
    "matcher = Matcher(unclean.vocab)\n",
    "pattern = [{\"POS\": \"NOUN\"}, {\"POS\": \"ADJ\"}, {\"POS\": \"NOUN\"}, {\"POS\":\"VERB\"}, {\"POS\": \"ADJ\"}, {\"POS\": \"NOUN\"}]\n",
    "matcher.add(\"Sentence\", [pattern])\n",
    "matches = matcher(unclean2)\n",
    "print(matches)\n",
    "### Apparently no matches for anything that complex"
   ]
  },
  {
   "cell_type": "code",
   "execution_count": 57,
   "id": "34036dee",
   "metadata": {
    "colab": {
     "base_uri": "https://localhost:8080/"
    },
    "executionInfo": {
     "elapsed": 167,
     "status": "ok",
     "timestamp": 1672946837582,
     "user": {
      "displayName": "Kirk Hazen",
      "userId": "00188619744813179443"
     },
     "user_tz": 300
    },
    "id": "34036dee",
    "outputId": "c5188bda-7c6d-44ea-8157-1f6053c346ca",
    "scrolled": true,
    "tags": []
   },
   "outputs": [
    {
     "name": "stdout",
     "output_type": "stream",
     "text": [
      "[(13473611918682418374, 7696, 7701), (13473611918682418374, 16715, 16720), (13473611918682418374, 18910, 18915), (13473611918682418374, 26436, 26441), (13473611918682418374, 27531, 27536), (13473611918682418374, 33289, 33294), (13473611918682418374, 35275, 35280), (13473611918682418374, 40445, 40450), (13473611918682418374, 44098, 44103), (13473611918682418374, 48042, 48047), (13473611918682418374, 48560, 48565), (13473611918682418374, 48747, 48752), (13473611918682418374, 51107, 51112), (13473611918682418374, 51222, 51227), (13473611918682418374, 52986, 52991), (13473611918682418374, 55353, 55358), (13473611918682418374, 64618, 64623), (13473611918682418374, 67087, 67092), (13473611918682418374, 73169, 73174)]\n"
     ]
    }
   ],
   "source": [
    "### Working with Matcher to find appropriate sentences\n",
    "matcher = Matcher(unclean.vocab)\n",
    "pattern = [{\"POS\": \"DET\"}, {\"POS\": \"NOUN\"}, {\"POS\":\"VERB\"}, {\"POS\": \"DET\"}, {\"POS\": \"NOUN\"}]\n",
    "matcher.add(\"Sentence\", [pattern])\n",
    "matches = matcher(unclean2)\n",
    "print(matches)\n",
    "## But do have some matches here"
   ]
  },
  {
   "cell_type": "code",
   "execution_count": 58,
   "id": "1b92c3dc",
   "metadata": {
    "id": "1b92c3dc"
   },
   "outputs": [],
   "source": [
    "def make_sent_print(matches):\n",
    "    sent_list=[]\n",
    "    for match_id, start, end in matches[0:10]:\n",
    "    # Get the matched span\n",
    "        matched_span = unclean2[start:end]\n",
    "        print(matched_span.text)"
   ]
  },
  {
   "cell_type": "code",
   "execution_count": 59,
   "id": "99699cee",
   "metadata": {
    "colab": {
     "base_uri": "https://localhost:8080/"
    },
    "executionInfo": {
     "elapsed": 182,
     "status": "ok",
     "timestamp": 1672946847352,
     "user": {
      "displayName": "Kirk Hazen",
      "userId": "00188619744813179443"
     },
     "user_tz": 300
    },
    "id": "99699cee",
    "outputId": "e69fcf3c-75b5-457a-ff5d-94de1f8822d1"
   },
   "outputs": [
    {
     "name": "stdout",
     "output_type": "stream",
     "text": [
      "the cabman put the bags\n",
      "a girl brought a stone\n",
      "The path crossed a stream\n",
      "no one wore any medals\n",
      "the river rose the plateau\n",
      "the waiter brought the sherry\n",
      "Every one took a drink\n",
      "the rain watching the concourse\n",
      "The wind blew the band\n",
      "some one had the police\n"
     ]
    }
   ],
   "source": [
    "make_sent_print(matches)"
   ]
  },
  {
   "cell_type": "code",
   "execution_count": 92,
   "id": "2eceb49a",
   "metadata": {
    "id": "2eceb49a",
    "tags": []
   },
   "outputs": [],
   "source": [
    "### Because I have a duplicate word to be predicted from the true list, I am taking the top 11 to get 10 in the final dictionary\n",
    "def make_sents(matches):\n",
    "    sent_list=[]\n",
    "    for match_id, start, end in matches[0:11]:\n",
    "    # Get the matched span\n",
    "        matched_span = unclean[start:end]\n",
    "        sent_list.append(matched_span.text)\n",
    "    return sent_list"
   ]
  },
  {
   "cell_type": "code",
   "execution_count": 93,
   "id": "89531c7d",
   "metadata": {
    "id": "89531c7d"
   },
   "outputs": [],
   "source": [
    "sent_list = make_sents(matches)"
   ]
  },
  {
   "cell_type": "code",
   "execution_count": 3,
   "id": "f317767c",
   "metadata": {
    "id": "f317767c",
    "outputId": "deda664d-2650-4313-c33c-e1aafa52594b"
   },
   "outputs": [
    {
     "name": "stdout",
     "output_type": "stream",
     "text": [
      "['the cabman put the bags', 'a girl brought a stone', 'The path crossed a stream', 'no one wore any medals', 'the river rose the plateau', 'the waiter brought the sherry', 'Every one took a drink', 'the rain watching the concourse', 'The wind blew the band', 'some one had the police', 'Some one poured a carafe']\n"
     ]
    }
   ],
   "source": [
    "print(sent_list)"
   ]
  },
  {
   "cell_type": "code",
   "execution_count": 95,
   "id": "7d1a9cc5-432e-45e1-96c3-154418a10a90",
   "metadata": {},
   "outputs": [],
   "source": [
    "f = open(\"sent_list_final.txt\", \"w\")\n",
    "f.write(str(sent_list))\n",
    "f.close()"
   ]
  },
  {
   "cell_type": "markdown",
   "id": "433bae19",
   "metadata": {
    "id": "433bae19"
   },
   "source": [
    "[Back to the TOC](#id0)"
   ]
  },
  {
   "cell_type": "markdown",
   "id": "73f13606",
   "metadata": {
    "id": "73f13606",
    "tags": []
   },
   "source": [
    "## Masking Sentences <a id=\"id4\"></a>"
   ]
  },
  {
   "cell_type": "code",
   "execution_count": 4,
   "id": "468edbb4",
   "metadata": {
    "id": "468edbb4"
   },
   "outputs": [],
   "source": [
    "def masking(listing):\n",
    "    #find the last word in the sentence\n",
    "    keys = []\n",
    "    values = []\n",
    "    for sentence in listing:\n",
    "        last_word = sentence.split(' ')[-3]\n",
    "        keys.append(last_word)\n",
    "        sub_sentence = sentence.replace(last_word, \"[MASK]\")\n",
    "        values.append(sub_sentence)\n",
    "    return dict(zip(keys,values))"
   ]
  },
  {
   "cell_type": "code",
   "execution_count": 5,
   "id": "36af9052",
   "metadata": {
    "colab": {
     "base_uri": "https://localhost:8080/"
    },
    "executionInfo": {
     "elapsed": 165,
     "status": "ok",
     "timestamp": 1672946857499,
     "user": {
      "displayName": "Kirk Hazen",
      "userId": "00188619744813179443"
     },
     "user_tz": 300
    },
    "id": "36af9052",
    "outputId": "56d113b1-5c58-44f3-abf8-c496148d786f",
    "scrolled": true
   },
   "outputs": [
    {
     "name": "stdout",
     "output_type": "stream",
     "text": [
      "{'put': 'the cabman [MASK] the bags', 'brought': 'the waiter [MASK] the sherry', 'crossed': 'The path [MASK] a stream', 'wore': 'no one [MASK] any medals', 'rose': 'the river [MASK] the plateau', 'took': 'Every one [MASK] a drink', 'watching': 'the rain [MASK] the concourse', 'blew': 'The wind [MASK] the band', 'had': 'some one [MASK] the police', 'poured': 'Some one [MASK] a carafe'}\n"
     ]
    }
   ],
   "source": [
    "dictionary = masking(sent_list)\n",
    "print(dictionary)"
   ]
  },
  {
   "cell_type": "code",
   "execution_count": 6,
   "id": "3da0da6e",
   "metadata": {
    "id": "3da0da6e"
   },
   "outputs": [],
   "source": [
    "### If I compare all five predictions for each masked word, here is the dictionary function to get the comparable list\n",
    "def test(dictionary):\n",
    "    true = []\n",
    "    for item in dictionary.keys():\n",
    "        true.extend([item for i in range(5)])\n",
    "    return true"
   ]
  },
  {
   "cell_type": "code",
   "execution_count": 7,
   "id": "00104cd5",
   "metadata": {
    "id": "00104cd5"
   },
   "outputs": [
    {
     "name": "stdout",
     "output_type": "stream",
     "text": [
      "['put', 'put', 'put', 'put', 'put', 'brought', 'brought', 'brought', 'brought', 'brought', 'crossed', 'crossed', 'crossed', 'crossed', 'crossed', 'wore', 'wore', 'wore', 'wore', 'wore', 'rose', 'rose', 'rose', 'rose', 'rose', 'took', 'took', 'took', 'took', 'took', 'watching', 'watching', 'watching', 'watching', 'watching', 'blew', 'blew', 'blew', 'blew', 'blew', 'had', 'had', 'had', 'had', 'had', 'poured', 'poured', 'poured', 'poured', 'poured']\n"
     ]
    }
   ],
   "source": [
    "true_full = test(dictionary)\n",
    "print(true_full)"
   ]
  },
  {
   "cell_type": "markdown",
   "id": "1116aa6e-db04-40b9-a8f8-448d06d7fd2b",
   "metadata": {
    "id": "433bae19"
   },
   "source": [
    "[Back to the TOC](#id0)"
   ]
  },
  {
   "cell_type": "markdown",
   "id": "d38623c1",
   "metadata": {
    "id": "d38623c1",
    "tags": []
   },
   "source": [
    "## Unmasking with Models <a id=\"id5\"></a>"
   ]
  },
  {
   "cell_type": "code",
   "execution_count": 48,
   "id": "5fb0205d-c744-4845-882b-f46288de46f1",
   "metadata": {
    "tags": []
   },
   "outputs": [
    {
     "data": {
      "text/plain": [
       "[{'score': 0.052928753197193146,\n",
       "  'token': 2535,\n",
       "  'token_str': 'role',\n",
       "  'sequence': \"hello i'm a role model.\"},\n",
       " {'score': 0.03968585282564163,\n",
       "  'token': 4827,\n",
       "  'token_str': 'fashion',\n",
       "  'sequence': \"hello i'm a fashion model.\"},\n",
       " {'score': 0.034743715077638626,\n",
       "  'token': 2449,\n",
       "  'token_str': 'business',\n",
       "  'sequence': \"hello i'm a business model.\"},\n",
       " {'score': 0.03462301939725876,\n",
       "  'token': 2944,\n",
       "  'token_str': 'model',\n",
       "  'sequence': \"hello i'm a model model.\"},\n",
       " {'score': 0.018145153298974037,\n",
       "  'token': 11643,\n",
       "  'token_str': 'modeling',\n",
       "  'sequence': \"hello i'm a modeling model.\"}]"
      ]
     },
     "execution_count": 48,
     "metadata": {},
     "output_type": "execute_result"
    }
   ],
   "source": [
    "### For untrained predictions\n",
    "from transformers import pipeline\n",
    "\n",
    "unmasker = pipeline('fill-mask', model='distilbert-base-uncased', top_k=5)\n",
    "unmasker(\"Hello I'm a [MASK] model.\")"
   ]
  },
  {
   "cell_type": "code",
   "execution_count": 11,
   "id": "5a245883-6f79-4b6d-973f-11ac6aeeffd3",
   "metadata": {
    "collapsed": true,
    "jupyter": {
     "outputs_hidden": true
    },
    "tags": []
   },
   "outputs": [
    {
     "data": {
      "text/plain": [
       "[{'score': 0.061049312353134155,\n",
       "  'token': 2158,\n",
       "  'token_str': 'man',\n",
       "  'sequence': 'robert was a good man.'},\n",
       " {'score': 0.043130263686180115,\n",
       "  'token': 2767,\n",
       "  'token_str': 'friend',\n",
       "  'sequence': 'robert was a good friend.'},\n",
       " {'score': 0.033421870321035385,\n",
       "  'token': 19373,\n",
       "  'token_str': 'listener',\n",
       "  'sequence': 'robert was a good listener.'},\n",
       " {'score': 0.031055022031068802,\n",
       "  'token': 5660,\n",
       "  'token_str': 'cook',\n",
       "  'sequence': 'robert was a good cook.'},\n",
       " {'score': 0.0254940427839756,\n",
       "  'token': 2879,\n",
       "  'token_str': 'boy',\n",
       "  'sequence': 'robert was a good boy.'}]"
      ]
     },
     "execution_count": 11,
     "metadata": {},
     "output_type": "execute_result"
    }
   ],
   "source": [
    "### for predictions with fine-tuned\n",
    "from transformers import pipeline\n",
    "unmasker = pipeline('fill-mask', model='khazen2/DistilBERT_Hemingway_SAR')\n",
    "unmasker(\"Robert was a good [MASK].\")"
   ]
  },
  {
   "cell_type": "code",
   "execution_count": 12,
   "id": "39722dea",
   "metadata": {
    "id": "39722dea"
   },
   "outputs": [],
   "source": [
    "###This function will take the dictionary of true words (keys) and their corresponding masked 'sentence', run the value masked sentence\n",
    "#### through the unmasker defined above, and then make a dictionary with the true word key and the predictions\n",
    "def unmasking(sent):\n",
    "    keys=[]\n",
    "    new_values=[]\n",
    "    for key, value in sent.items():\n",
    "        predictions = unmasker(value)\n",
    "        new_values.append(predictions)\n",
    "        keys.append(key)\n",
    "    return dict(zip(keys,new_values))"
   ]
  },
  {
   "cell_type": "code",
   "execution_count": 49,
   "id": "f6837b8a",
   "metadata": {
    "id": "f6837b8a"
   },
   "outputs": [],
   "source": [
    "true_predictions = unmasking(dictionary)"
   ]
  },
  {
   "cell_type": "code",
   "execution_count": 50,
   "id": "660ec158-d5d1-40fc-80ab-ed8088029a1e",
   "metadata": {
    "tags": []
   },
   "outputs": [
    {
     "name": "stdout",
     "output_type": "stream",
     "text": [
      "{'put': [{'score': 0.1068626418709755, 'token': 7883, 'token_str': 'carries', 'sequence': 'the cabman carries the bags'}, {'score': 0.054825808852910995, 'token': 17427, 'token_str': 'collects', 'sequence': 'the cabman collects the bags'}, {'score': 0.053828541189432144, 'token': 8005, 'token_str': 'pulls', 'sequence': 'the cabman pulls the bags'}, {'score': 0.05369328707456589, 'token': 16024, 'token_str': 'handles', 'sequence': 'the cabman handles the bags'}, {'score': 0.039964646100997925, 'token': 7480, 'token_str': 'opens', 'sequence': 'the cabman opens the bags'}], 'brought': [{'score': 0.12139724940061569, 'token': 20776, 'token_str': 'prepares', 'sequence': 'the waiter prepares the sherry'}, {'score': 0.03895903378725052, 'token': 8974, 'token_str': 'drinks', 'sequence': 'the waiter drinks the sherry'}, {'score': 0.035475343465805054, 'token': 4449, 'token_str': 'orders', 'sequence': 'the waiter orders the sherry'}, {'score': 0.02729075215756893, 'token': 18058, 'token_str': 'delivers', 'sequence': 'the waiter delivers the sherry'}, {'score': 0.019442517310380936, 'token': 4240, 'token_str': 'serves', 'sequence': 'the waiter serves the sherry'}], 'crossed': [{'score': 0.6429393887519836, 'token': 4076, 'token_str': 'follows', 'sequence': 'the path follows a stream'}, {'score': 0.07019005715847015, 'token': 1997, 'token_str': 'of', 'sequence': 'the path of a stream'}, {'score': 0.03892960026860237, 'token': 7821, 'token_str': 'crosses', 'sequence': 'the path crosses a stream'}, {'score': 0.020202960819005966, 'token': 4150, 'token_str': 'becomes', 'sequence': 'the path becomes a stream'}, {'score': 0.017507415264844894, 'token': 2247, 'token_str': 'along', 'sequence': 'the path along a stream'}], 'wore': [{'score': 0.6895982027053833, 'token': 2180, 'token_str': 'won', 'sequence': 'no one won any medals'}, {'score': 0.06583691388368607, 'token': 5222, 'token_str': 'wins', 'sequence': 'no one wins any medals'}, {'score': 0.05973518267273903, 'token': 2363, 'token_str': 'received', 'sequence': 'no one received any medals'}, {'score': 0.04724761098623276, 'token': 3018, 'token_str': 'awarded', 'sequence': 'no one awarded any medals'}, {'score': 0.045479461550712585, 'token': 3687, 'token_str': 'earned', 'sequence': 'no one earned any medals'}], 'rose': [{'score': 0.3234146535396576, 'token': 7821, 'token_str': 'crosses', 'sequence': 'the river crosses the plateau'}, {'score': 0.13958300650119781, 'token': 8039, 'token_str': 'enters', 'sequence': 'the river enters the plateau'}, {'score': 0.0939752608537674, 'token': 18916, 'token_str': 'drains', 'sequence': 'the river drains the plateau'}, {'score': 0.09211508184671402, 'token': 9794, 'token_str': 'joins', 'sequence': 'the river joins the plateau'}, {'score': 0.05660532787442207, 'token': 6561, 'token_str': 'reaches', 'sequence': 'the river reaches the plateau'}], 'took': [{'score': 0.2668980360031128, 'token': 4152, 'token_str': 'gets', 'sequence': 'every one gets a drink'}, {'score': 0.11046554893255234, 'token': 8974, 'token_str': 'drinks', 'sequence': 'every one drinks a drink'}, {'score': 0.0860661044716835, 'token': 3138, 'token_str': 'takes', 'sequence': 'every one takes a drink'}, {'score': 0.04968063160777092, 'token': 23311, 'token_str': 'buys', 'sequence': 'every one buys a drink'}, {'score': 0.03367743268609047, 'token': 4122, 'token_str': 'wants', 'sequence': 'every one wants a drink'}], 'watching': [{'score': 0.1091960221529007, 'token': 25265, 'token_str': 'drenched', 'sequence': 'the rain drenched the concourse'}, {'score': 0.06650619208812714, 'token': 17469, 'token_str': 'fills', 'sequence': 'the rain fills the concourse'}, {'score': 0.055966876447200775, 'token': 3561, 'token_str': 'filled', 'sequence': 'the rain filled the concourse'}, {'score': 0.044482599943876266, 'token': 10361, 'token_str': 'flooded', 'sequence': 'the rain flooded the concourse'}, {'score': 0.03841627761721611, 'token': 13077, 'token_str': 'soaked', 'sequence': 'the rain soaked the concourse'}], 'blew': [{'score': 0.06486374884843826, 'token': 9297, 'token_str': 'drives', 'sequence': 'the wind drives the band'}, {'score': 0.06192512810230255, 'token': 9326, 'token_str': 'strikes', 'sequence': 'the wind strikes the band'}, {'score': 0.05135555565357208, 'token': 13783, 'token_str': 'blows', 'sequence': 'the wind blows the band'}, {'score': 0.03820424899458885, 'token': 1997, 'token_str': 'of', 'sequence': 'the wind of the band'}, {'score': 0.02963504195213318, 'token': 9794, 'token_str': 'joins', 'sequence': 'the wind joins the band'}], 'had': [{'score': 0.08039898425340652, 'token': 1997, 'token_str': 'of', 'sequence': 'some one of the police'}, {'score': 0.06281012296676636, 'token': 4455, 'token_str': 'calls', 'sequence': 'some one calls the police'}, {'score': 0.03751508146524429, 'token': 9794, 'token_str': 'joins', 'sequence': 'some one joins the police'}, {'score': 0.03176629915833473, 'token': 2170, 'token_str': 'called', 'sequence': 'some one called the police'}, {'score': 0.018993178382515907, 'token': 12976, 'token_str': 'escapes', 'sequence': 'some one escapes the police'}], 'poured': [{'score': 0.11281471699476242, 'token': 11651, 'token_str': 'wears', 'sequence': 'some one wears a carafe'}, {'score': 0.041057053953409195, 'token': 7883, 'token_str': 'carries', 'sequence': 'some one carries a carafe'}, {'score': 0.03066769428551197, 'token': 8617, 'token_str': 'owns', 'sequence': 'some one owns a carafe'}, {'score': 0.02603910304605961, 'token': 3594, 'token_str': 'uses', 'sequence': 'some one uses a carafe'}, {'score': 0.02511146292090416, 'token': 3084, 'token_str': 'makes', 'sequence': 'some one makes a carafe'}]}\n"
     ]
    }
   ],
   "source": [
    "print(true_predictions)"
   ]
  },
  {
   "cell_type": "code",
   "execution_count": 51,
   "id": "b218729b-bcbf-40e9-b7ea-d39217475636",
   "metadata": {},
   "outputs": [],
   "source": [
    "f = open(\"pred_dictionary_unclean2_NOT_tuned.txt\", \"w\")\n",
    "f.write(str(true_predictions))\n",
    "f.close()"
   ]
  },
  {
   "cell_type": "markdown",
   "id": "0968930c-27e3-4219-b664-8b85160d4ab8",
   "metadata": {
    "id": "aaec1e0f"
   },
   "source": [
    "[Back to the TOC](#id0)"
   ]
  },
  {
   "cell_type": "markdown",
   "id": "71fd2295-a7aa-42eb-a945-a781d7308a86",
   "metadata": {},
   "source": [
    "## Unpacking the Prediction Dictionary <a id=\"id6\"></a>"
   ]
  },
  {
   "cell_type": "code",
   "execution_count": 52,
   "id": "55e0a4fd",
   "metadata": {
    "id": "55e0a4fd",
    "tags": []
   },
   "outputs": [],
   "source": [
    "### So I'm going to have something like a dictionary with the true-word key and the predictions. What am I making? A list of true values\n",
    "### repeated for each of the guesses and a list of guessed values.\n",
    "# true = ['top', 'top', 'top', 'top', 'top']\n",
    "# predicted = ['fashion', 'role', 'new', 'super', 'fine']\n",
    "\n",
    "def unpacking(dictionary):\n",
    "    true = []\n",
    "    predicted = []\n",
    "    for item in dictionary.keys():\n",
    "        true.extend([item for i in range(5)])\n",
    "    for value in dictionary.values():\n",
    "        for in_item in value:\n",
    "            for key, word in in_item.items():\n",
    "                if key == 'token_str':\n",
    "                    predicted.append(word)\n",
    "    return true, predicted"
   ]
  },
  {
   "cell_type": "code",
   "execution_count": 53,
   "id": "T_4OSgl6OoCw",
   "metadata": {
    "id": "T_4OSgl6OoCw"
   },
   "outputs": [],
   "source": [
    "### running the unpacking function to get two FULL lists (with duplicated predictions)\n",
    "true, predicted = unpacking(true_predictions)"
   ]
  },
  {
   "cell_type": "code",
   "execution_count": 54,
   "id": "_FN8Ie3fPRY-",
   "metadata": {
    "colab": {
     "base_uri": "https://localhost:8080/"
    },
    "executionInfo": {
     "elapsed": 167,
     "status": "ok",
     "timestamp": 1672944497679,
     "user": {
      "displayName": "Kirk Hazen",
      "userId": "00188619744813179443"
     },
     "user_tz": 300
    },
    "id": "_FN8Ie3fPRY-",
    "outputId": "615d64ec-ec1d-46f5-944d-a76c9d8bdcb4",
    "tags": []
   },
   "outputs": [
    {
     "name": "stdout",
     "output_type": "stream",
     "text": [
      "['put', 'put', 'put', 'put', 'put', 'brought', 'brought', 'brought', 'brought', 'brought', 'crossed', 'crossed', 'crossed', 'crossed', 'crossed', 'wore', 'wore', 'wore', 'wore', 'wore', 'rose', 'rose', 'rose', 'rose', 'rose', 'took', 'took', 'took', 'took', 'took', 'watching', 'watching', 'watching', 'watching', 'watching', 'blew', 'blew', 'blew', 'blew', 'blew', 'had', 'had', 'had', 'had', 'had', 'poured', 'poured', 'poured', 'poured', 'poured']\n",
      "['carries', 'collects', 'pulls', 'handles', 'opens', 'prepares', 'drinks', 'orders', 'delivers', 'serves', 'follows', 'of', 'crosses', 'becomes', 'along', 'won', 'wins', 'received', 'awarded', 'earned', 'crosses', 'enters', 'drains', 'joins', 'reaches', 'gets', 'drinks', 'takes', 'buys', 'wants', 'drenched', 'fills', 'filled', 'flooded', 'soaked', 'drives', 'strikes', 'blows', 'of', 'joins', 'of', 'calls', 'joins', 'called', 'escapes', 'wears', 'carries', 'owns', 'uses', 'makes']\n"
     ]
    }
   ],
   "source": [
    "print(true)\n",
    "print(predicted)"
   ]
  },
  {
   "cell_type": "code",
   "execution_count": 109,
   "id": "gp460GWQXz3p",
   "metadata": {
    "id": "gp460GWQXz3p",
    "tags": []
   },
   "outputs": [],
   "source": [
    "### What if I want to use just the top predictions for each key word? Different approaches for the \n",
    "### different lists\n",
    "def true_trim(listing):\n",
    "  new_true=[]\n",
    "  for item in listing:\n",
    "    if item not in new_true:\n",
    "      new_true.append(item)\n",
    "  return new_true\n",
    "\n",
    "def predicted_trim(listing):\n",
    "  new_predicted=listing[::5]\n",
    "  return new_predicted\n"
   ]
  },
  {
   "cell_type": "code",
   "execution_count": 148,
   "id": "4a9b5ee5-2dfb-4e9e-9dd7-c2748c7a9e44",
   "metadata": {},
   "outputs": [
    {
     "name": "stdout",
     "output_type": "stream",
     "text": [
      "['put', 'brought', 'crossed', 'wore', 'rose', 'took', 'watching', 'blew', 'had', 'poured']\n"
     ]
    }
   ],
   "source": [
    "new_true=true_trim(true)\n",
    "print(new_true)"
   ]
  },
  {
   "cell_type": "code",
   "execution_count": 149,
   "id": "d6b0006c-0c69-4bb9-a33c-69b1d9ce9f50",
   "metadata": {},
   "outputs": [
    {
     "name": "stdout",
     "output_type": "stream",
     "text": [
      "['carries', 'prepares', 'follows', 'won', 'crosses', 'gets', 'drenched', 'drives', 'of', 'wears']\n"
     ]
    }
   ],
   "source": [
    "new_predicted=predicted_trim(predicted)\n",
    "print(new_predicted)"
   ]
  },
  {
   "cell_type": "code",
   "execution_count": 57,
   "id": "6b1d447f-d8c5-46d5-8c1c-97ca38be40c4",
   "metadata": {
    "tags": []
   },
   "outputs": [],
   "source": [
    "f = open(\"true_words_out_of_box.txt\", \"w\")\n",
    "f.write(str(true))\n",
    "f.close()"
   ]
  },
  {
   "cell_type": "code",
   "execution_count": 56,
   "id": "45b588f0-959e-454c-aa35-d78b958d8c18",
   "metadata": {
    "tags": []
   },
   "outputs": [],
   "source": [
    "f = open(\"top_predicted_words_out_of_box.txt\", \"w\")\n",
    "f.write(str(predicted))\n",
    "f.close()"
   ]
  },
  {
   "cell_type": "markdown",
   "id": "18b651cf-fe10-42ac-adf4-7753a16dd5f8",
   "metadata": {
    "id": "aaec1e0f"
   },
   "source": [
    "[Back to the TOC](#id0)"
   ]
  },
  {
   "cell_type": "markdown",
   "id": "156cdec3-976b-427c-b9ad-f9070e039fb5",
   "metadata": {
    "id": "dc76a91d"
   },
   "source": [
    "## Confusion Matrix Scores<a id=\"id7\"></a>"
   ]
  },
  {
   "cell_type": "code",
   "execution_count": 121,
   "id": "5b19341f",
   "metadata": {
    "id": "5b19341f",
    "tags": []
   },
   "outputs": [],
   "source": [
    "full_list = new_true + new_predicted"
   ]
  },
  {
   "cell_type": "code",
   "execution_count": 122,
   "id": "9a8a11b7",
   "metadata": {
    "id": "9a8a11b7",
    "outputId": "1fe2c47d-b71b-4d0c-857c-86c6e2a9ee6e",
    "tags": []
   },
   "outputs": [
    {
     "name": "stdout",
     "output_type": "stream",
     "text": [
      "['blew', 'brought', 'carries', 'crossed', 'crosses', 'drenched', 'drives', 'follows', 'gets', 'had', 'of', 'poured', 'prepares', 'put', 'rose', 'took', 'watching', 'wears', 'won', 'wore']\n"
     ]
    }
   ],
   "source": [
    "full_list.sort()\n",
    "print(full_list)"
   ]
  },
  {
   "cell_type": "code",
   "execution_count": 117,
   "id": "d36b2bc5",
   "metadata": {
    "id": "d36b2bc5",
    "tags": []
   },
   "outputs": [],
   "source": [
    "confusion_matrix = metrics.confusion_matrix(new_true, new_predicted)"
   ]
  },
  {
   "cell_type": "code",
   "execution_count": 123,
   "id": "e8fb03f4",
   "metadata": {
    "id": "e8fb03f4",
    "outputId": "46255eb9-1e6e-4ab3-d43a-1f9adfaf2923",
    "tags": []
   },
   "outputs": [
    {
     "data": {
      "text/plain": [
       "<Figure size 2000x1000 with 0 Axes>"
      ]
     },
     "metadata": {},
     "output_type": "display_data"
    },
    {
     "data": {
      "image/png": "[encoded data removed]",
      "text/plain": [
       "<Figure size 640x480 with 2 Axes>"
      ]
     },
     "metadata": {},
     "output_type": "display_data"
    }
   ],
   "source": [
    "fig = plt.figure(figsize=(20, 10))\n",
    "cm_display = metrics.ConfusionMatrixDisplay(confusion_matrix = confusion_matrix, display_labels = full_list)\n",
    "cm_display.plot()\n",
    "plt.show(fig);"
   ]
  },
  {
   "cell_type": "markdown",
   "id": "ff22452f",
   "metadata": {
    "id": "ff22452f"
   },
   "source": [
    "[Back to the TOC](#id0)"
   ]
  },
  {
   "cell_type": "markdown",
   "id": "e1943e0d",
   "metadata": {
    "id": "e1943e0d"
   },
   "source": [
    "## Similarity Scores Between Actual and Predicted<a id=\"id8\"></a>"
   ]
  },
  {
   "cell_type": "code",
   "execution_count": 18,
   "id": "77585999",
   "metadata": {
    "id": "77585999",
    "outputId": "d7991132-248f-46db-cdb2-ecce85f986f4"
   },
   "outputs": [
    {
     "data": {
      "text/plain": [
       "<spacy.lang.en.English at 0x7f7bb0fd12b0>"
      ]
     },
     "execution_count": 18,
     "metadata": {},
     "output_type": "execute_result"
    }
   ],
   "source": [
    "nlp = spacy.load(\"en_core_web_md\")\n",
    "nlp"
   ]
  },
  {
   "cell_type": "code",
   "execution_count": 58,
   "id": "15289d46",
   "metadata": {
    "id": "15289d46",
    "outputId": "04e42a23-a8c0-4fca-8082-7cf53f5c9554",
    "tags": []
   },
   "outputs": [
    {
     "name": "stdout",
     "output_type": "stream",
     "text": [
      "put True 83.36968839385139\n",
      "put True 83.36968839385139\n",
      "put True 83.36968839385139\n",
      "put True 83.36968839385139\n",
      "put True 83.36968839385139\n",
      "brought True 42.49567754501403\n",
      "brought True 42.49567754501403\n",
      "brought True 42.49567754501403\n",
      "brought True 42.49567754501403\n",
      "brought True 42.49567754501403\n",
      "crossed True 40.898532868973525\n",
      "crossed True 40.898532868973525\n",
      "crossed True 40.898532868973525\n",
      "crossed True 40.898532868973525\n",
      "crossed True 40.898532868973525\n",
      "wore True 60.08197502541819\n",
      "wore True 60.08197502541819\n",
      "wore True 60.08197502541819\n",
      "wore True 60.08197502541819\n",
      "wore True 60.08197502541819\n",
      "rose True 55.42226612796966\n",
      "rose True 55.42226612796966\n",
      "rose True 55.42226612796966\n",
      "rose True 55.42226612796966\n",
      "rose True 55.42226612796966\n",
      "took True 75.74490168465488\n",
      "took True 75.74490168465488\n",
      "took True 75.74490168465488\n",
      "took True 75.74490168465488\n",
      "took True 75.74490168465488\n",
      "watching True 38.47806242730999\n",
      "watching True 38.47806242730999\n",
      "watching True 38.47806242730999\n",
      "watching True 38.47806242730999\n",
      "watching True 38.47806242730999\n",
      "blew True 47.67730272657487\n",
      "blew True 47.67730272657487\n",
      "blew True 47.67730272657487\n",
      "blew True 47.67730272657487\n",
      "blew True 47.67730272657487\n",
      "had True 83.5030348090623\n",
      "had True 83.5030348090623\n",
      "had True 83.5030348090623\n",
      "had True 83.5030348090623\n",
      "had True 83.5030348090623\n",
      "poured True 39.35908459960076\n",
      "poured True 39.35908459960076\n",
      "poured True 39.35908459960076\n",
      "poured True 39.35908459960076\n",
      "poured True 39.35908459960076\n"
     ]
    }
   ],
   "source": [
    "### https://spacy.io/usage/linguistic-features#vectors-similarity\n",
    "### Word to vector for the list of true (actual) masked words\n",
    "### Same goes for the predicted ones\n",
    "### Can take the similarity scores for the each pair of words (true~predicted) \n",
    "### and the average for the list itself\n",
    "\n",
    "for token in true:\n",
    "    token_vec = nlp(token)\n",
    "    print(token_vec.text, token_vec.has_vector, token_vec.vector_norm)"
   ]
  },
  {
   "cell_type": "code",
   "execution_count": 59,
   "id": "3ffa4e73-1e6f-4891-9407-a4d64f6d4326",
   "metadata": {
    "id": "15289d46",
    "outputId": "04e42a23-a8c0-4fca-8082-7cf53f5c9554"
   },
   "outputs": [
    {
     "name": "stdout",
     "output_type": "stream",
     "text": [
      "carries True 38.21381430958711\n",
      "collects True 38.99000607382925\n",
      "pulls True 41.61640585044665\n",
      "handles True 38.71545642439109\n",
      "opens True 45.99323766667351\n",
      "prepares True 32.891856178682254\n",
      "drinks True 44.290810394565796\n",
      "orders True 52.63558541762223\n",
      "delivers True 39.91978974146066\n",
      "serves True 49.60738423913598\n",
      "follows True 38.18315631044392\n",
      "of True 120.90160624478666\n",
      "crosses True 40.565298263988275\n",
      "becomes True 48.04895472042354\n",
      "along True 49.15293819155312\n",
      "won True 105.3761175446047\n",
      "wins True 58.233506304963086\n",
      "received True 48.94463392974595\n",
      "awarded True 52.47092608764651\n",
      "earned True 49.700530175127696\n",
      "crosses True 40.565298263988275\n",
      "enters True 42.94517765433581\n",
      "drains True 44.733481188016064\n",
      "joins True 42.03864384986047\n",
      "reaches True 41.23630535755728\n",
      "gets True 56.91733648011779\n",
      "drinks True 44.290810394565796\n",
      "takes True 56.59037797680021\n",
      "buys True 41.62466748200667\n",
      "wants True 51.53075940521029\n",
      "drenched True 34.480908610088946\n",
      "fills True 40.14134761113116\n",
      "filled True 45.07084587598318\n",
      "flooded True 36.678531334501066\n",
      "soaked True 34.480908610088946\n",
      "drives True 42.81158100305646\n",
      "strikes True 38.388352333534876\n",
      "blows True 40.01620914486369\n",
      "of True 120.90160624478666\n",
      "joins True 42.03864384986047\n",
      "of True 120.90160624478666\n",
      "calls True 49.31034687633341\n",
      "joins True 42.03864384986047\n",
      "called True 42.58721008373416\n",
      "escapes True 37.25188890646416\n",
      "wears True 48.89284836240918\n",
      "carries True 38.21381430958711\n",
      "owns True 56.8417179791881\n",
      "uses True 59.55901522954332\n",
      "makes True 57.98806137734941\n"
     ]
    }
   ],
   "source": [
    "### https://spacy.io/usage/linguistic-features#vectors-similarity\n",
    "### Word to vector for the list of true (actual) masked words\n",
    "### Same goes for the predicted ones\n",
    "### Can take the similarity scores for the each pair of words (true~predicted) \n",
    "### and the average for the list itself\n",
    "\n",
    "for token in predicted:\n",
    "    token_vec = nlp(token)\n",
    "    print(token_vec.text, token_vec.has_vector, token_vec.vector_norm)"
   ]
  },
  {
   "cell_type": "code",
   "execution_count": 40,
   "id": "767d1d8d",
   "metadata": {
    "id": "767d1d8d"
   },
   "outputs": [],
   "source": [
    "### Making a function to compare each word from the lists, get their similarity scores,\n",
    "### and store the results as lists\n",
    "def similarity_comparision(actual, pred):\n",
    "    comparisons=[]\n",
    "    true_word=[]\n",
    "    predicted_word=[]\n",
    "    for word in actual:\n",
    "        true_word.append(word)\n",
    "        word_vec = nlp(word)\n",
    "        for item in pred:\n",
    "            predicted_word.append(item)\n",
    "            item_vec = nlp(item)\n",
    "            comp = word_vec.similarity(item_vec)\n",
    "            comparisons.append(comp)\n",
    "    return comparisons, true_word, predicted_word"
   ]
  },
  {
   "cell_type": "code",
   "execution_count": 60,
   "id": "c55f4934",
   "metadata": {
    "id": "c55f4934"
   },
   "outputs": [],
   "source": [
    "comparisons, true_word, predicted_word = similarity_comparision(true, predicted)"
   ]
  },
  {
   "cell_type": "code",
   "execution_count": 61,
   "id": "2c493dd8",
   "metadata": {
    "id": "2c493dd8"
   },
   "outputs": [],
   "source": [
    "data_tuples = list(zip(true_word, predicted_word, comparisons))"
   ]
  },
  {
   "cell_type": "code",
   "execution_count": 62,
   "id": "c4df5c2b",
   "metadata": {
    "id": "c4df5c2b"
   },
   "outputs": [],
   "source": [
    "comparison_df = pd.DataFrame(data_tuples, columns = ['True Word', 'Predicted Word', 'Similarity Scores'])\n"
   ]
  },
  {
   "cell_type": "code",
   "execution_count": 63,
   "id": "eebe0964",
   "metadata": {
    "id": "eebe0964",
    "outputId": "6cebc639-0403-4dc1-c322-c3cbcfd8b920"
   },
   "outputs": [
    {
     "data": {
      "text/html": [
       "<div>\n",
       "<style scoped>\n",
       "    .dataframe tbody tr th:only-of-type {\n",
       "        vertical-align: middle;\n",
       "    }\n",
       "\n",
       "    .dataframe tbody tr th {\n",
       "        vertical-align: top;\n",
       "    }\n",
       "\n",
       "    .dataframe thead th {\n",
       "        text-align: right;\n",
       "    }\n",
       "</style>\n",
       "<table border=\"1\" class=\"dataframe\">\n",
       "  <thead>\n",
       "    <tr style=\"text-align: right;\">\n",
       "      <th></th>\n",
       "      <th>True Word</th>\n",
       "      <th>Predicted Word</th>\n",
       "      <th>Similarity Scores</th>\n",
       "    </tr>\n",
       "  </thead>\n",
       "  <tbody>\n",
       "    <tr>\n",
       "      <th>0</th>\n",
       "      <td>put</td>\n",
       "      <td>carries</td>\n",
       "      <td>0.291859</td>\n",
       "    </tr>\n",
       "    <tr>\n",
       "      <th>1</th>\n",
       "      <td>put</td>\n",
       "      <td>collects</td>\n",
       "      <td>0.162198</td>\n",
       "    </tr>\n",
       "    <tr>\n",
       "      <th>2</th>\n",
       "      <td>put</td>\n",
       "      <td>pulls</td>\n",
       "      <td>0.521544</td>\n",
       "    </tr>\n",
       "    <tr>\n",
       "      <th>3</th>\n",
       "      <td>put</td>\n",
       "      <td>handles</td>\n",
       "      <td>0.296818</td>\n",
       "    </tr>\n",
       "    <tr>\n",
       "      <th>4</th>\n",
       "      <td>put</td>\n",
       "      <td>opens</td>\n",
       "      <td>0.253191</td>\n",
       "    </tr>\n",
       "    <tr>\n",
       "      <th>5</th>\n",
       "      <td>brought</td>\n",
       "      <td>prepares</td>\n",
       "      <td>0.241716</td>\n",
       "    </tr>\n",
       "    <tr>\n",
       "      <th>6</th>\n",
       "      <td>brought</td>\n",
       "      <td>drinks</td>\n",
       "      <td>0.124600</td>\n",
       "    </tr>\n",
       "    <tr>\n",
       "      <th>7</th>\n",
       "      <td>brought</td>\n",
       "      <td>orders</td>\n",
       "      <td>0.067452</td>\n",
       "    </tr>\n",
       "    <tr>\n",
       "      <th>8</th>\n",
       "      <td>brought</td>\n",
       "      <td>delivers</td>\n",
       "      <td>0.188906</td>\n",
       "    </tr>\n",
       "    <tr>\n",
       "      <th>9</th>\n",
       "      <td>brought</td>\n",
       "      <td>serves</td>\n",
       "      <td>0.124504</td>\n",
       "    </tr>\n",
       "    <tr>\n",
       "      <th>10</th>\n",
       "      <td>crossed</td>\n",
       "      <td>follows</td>\n",
       "      <td>0.124123</td>\n",
       "    </tr>\n",
       "    <tr>\n",
       "      <th>11</th>\n",
       "      <td>crossed</td>\n",
       "      <td>of</td>\n",
       "      <td>0.047131</td>\n",
       "    </tr>\n",
       "    <tr>\n",
       "      <th>12</th>\n",
       "      <td>crossed</td>\n",
       "      <td>crosses</td>\n",
       "      <td>0.136119</td>\n",
       "    </tr>\n",
       "    <tr>\n",
       "      <th>13</th>\n",
       "      <td>crossed</td>\n",
       "      <td>becomes</td>\n",
       "      <td>0.119062</td>\n",
       "    </tr>\n",
       "    <tr>\n",
       "      <th>14</th>\n",
       "      <td>crossed</td>\n",
       "      <td>along</td>\n",
       "      <td>0.005715</td>\n",
       "    </tr>\n",
       "    <tr>\n",
       "      <th>15</th>\n",
       "      <td>wore</td>\n",
       "      <td>won</td>\n",
       "      <td>0.148917</td>\n",
       "    </tr>\n",
       "    <tr>\n",
       "      <th>16</th>\n",
       "      <td>wore</td>\n",
       "      <td>wins</td>\n",
       "      <td>0.088288</td>\n",
       "    </tr>\n",
       "    <tr>\n",
       "      <th>17</th>\n",
       "      <td>wore</td>\n",
       "      <td>received</td>\n",
       "      <td>0.182217</td>\n",
       "    </tr>\n",
       "    <tr>\n",
       "      <th>18</th>\n",
       "      <td>wore</td>\n",
       "      <td>awarded</td>\n",
       "      <td>0.144821</td>\n",
       "    </tr>\n",
       "    <tr>\n",
       "      <th>19</th>\n",
       "      <td>wore</td>\n",
       "      <td>earned</td>\n",
       "      <td>0.264530</td>\n",
       "    </tr>\n",
       "    <tr>\n",
       "      <th>20</th>\n",
       "      <td>rose</td>\n",
       "      <td>crosses</td>\n",
       "      <td>0.136119</td>\n",
       "    </tr>\n",
       "    <tr>\n",
       "      <th>21</th>\n",
       "      <td>rose</td>\n",
       "      <td>enters</td>\n",
       "      <td>0.169295</td>\n",
       "    </tr>\n",
       "    <tr>\n",
       "      <th>22</th>\n",
       "      <td>rose</td>\n",
       "      <td>drains</td>\n",
       "      <td>0.116602</td>\n",
       "    </tr>\n",
       "    <tr>\n",
       "      <th>23</th>\n",
       "      <td>rose</td>\n",
       "      <td>joins</td>\n",
       "      <td>0.113202</td>\n",
       "    </tr>\n",
       "    <tr>\n",
       "      <th>24</th>\n",
       "      <td>rose</td>\n",
       "      <td>reaches</td>\n",
       "      <td>0.246324</td>\n",
       "    </tr>\n",
       "    <tr>\n",
       "      <th>25</th>\n",
       "      <td>took</td>\n",
       "      <td>gets</td>\n",
       "      <td>0.303922</td>\n",
       "    </tr>\n",
       "    <tr>\n",
       "      <th>26</th>\n",
       "      <td>took</td>\n",
       "      <td>drinks</td>\n",
       "      <td>0.124600</td>\n",
       "    </tr>\n",
       "    <tr>\n",
       "      <th>27</th>\n",
       "      <td>took</td>\n",
       "      <td>takes</td>\n",
       "      <td>0.392028</td>\n",
       "    </tr>\n",
       "    <tr>\n",
       "      <th>28</th>\n",
       "      <td>took</td>\n",
       "      <td>buys</td>\n",
       "      <td>0.208096</td>\n",
       "    </tr>\n",
       "    <tr>\n",
       "      <th>29</th>\n",
       "      <td>took</td>\n",
       "      <td>wants</td>\n",
       "      <td>0.229077</td>\n",
       "    </tr>\n",
       "    <tr>\n",
       "      <th>30</th>\n",
       "      <td>watching</td>\n",
       "      <td>drenched</td>\n",
       "      <td>0.313376</td>\n",
       "    </tr>\n",
       "    <tr>\n",
       "      <th>31</th>\n",
       "      <td>watching</td>\n",
       "      <td>fills</td>\n",
       "      <td>0.273078</td>\n",
       "    </tr>\n",
       "    <tr>\n",
       "      <th>32</th>\n",
       "      <td>watching</td>\n",
       "      <td>filled</td>\n",
       "      <td>0.311715</td>\n",
       "    </tr>\n",
       "    <tr>\n",
       "      <th>33</th>\n",
       "      <td>watching</td>\n",
       "      <td>flooded</td>\n",
       "      <td>0.152951</td>\n",
       "    </tr>\n",
       "    <tr>\n",
       "      <th>34</th>\n",
       "      <td>watching</td>\n",
       "      <td>soaked</td>\n",
       "      <td>0.313376</td>\n",
       "    </tr>\n",
       "    <tr>\n",
       "      <th>35</th>\n",
       "      <td>blew</td>\n",
       "      <td>drives</td>\n",
       "      <td>0.275019</td>\n",
       "    </tr>\n",
       "    <tr>\n",
       "      <th>36</th>\n",
       "      <td>blew</td>\n",
       "      <td>strikes</td>\n",
       "      <td>0.229742</td>\n",
       "    </tr>\n",
       "    <tr>\n",
       "      <th>37</th>\n",
       "      <td>blew</td>\n",
       "      <td>blows</td>\n",
       "      <td>0.297296</td>\n",
       "    </tr>\n",
       "    <tr>\n",
       "      <th>38</th>\n",
       "      <td>blew</td>\n",
       "      <td>of</td>\n",
       "      <td>0.047131</td>\n",
       "    </tr>\n",
       "    <tr>\n",
       "      <th>39</th>\n",
       "      <td>blew</td>\n",
       "      <td>joins</td>\n",
       "      <td>0.113202</td>\n",
       "    </tr>\n",
       "    <tr>\n",
       "      <th>40</th>\n",
       "      <td>had</td>\n",
       "      <td>of</td>\n",
       "      <td>0.047131</td>\n",
       "    </tr>\n",
       "    <tr>\n",
       "      <th>41</th>\n",
       "      <td>had</td>\n",
       "      <td>calls</td>\n",
       "      <td>0.204262</td>\n",
       "    </tr>\n",
       "    <tr>\n",
       "      <th>42</th>\n",
       "      <td>had</td>\n",
       "      <td>joins</td>\n",
       "      <td>0.113202</td>\n",
       "    </tr>\n",
       "    <tr>\n",
       "      <th>43</th>\n",
       "      <td>had</td>\n",
       "      <td>called</td>\n",
       "      <td>0.235137</td>\n",
       "    </tr>\n",
       "    <tr>\n",
       "      <th>44</th>\n",
       "      <td>had</td>\n",
       "      <td>escapes</td>\n",
       "      <td>0.203528</td>\n",
       "    </tr>\n",
       "    <tr>\n",
       "      <th>45</th>\n",
       "      <td>poured</td>\n",
       "      <td>wears</td>\n",
       "      <td>0.278174</td>\n",
       "    </tr>\n",
       "    <tr>\n",
       "      <th>46</th>\n",
       "      <td>poured</td>\n",
       "      <td>carries</td>\n",
       "      <td>0.291859</td>\n",
       "    </tr>\n",
       "    <tr>\n",
       "      <th>47</th>\n",
       "      <td>poured</td>\n",
       "      <td>owns</td>\n",
       "      <td>0.056460</td>\n",
       "    </tr>\n",
       "    <tr>\n",
       "      <th>48</th>\n",
       "      <td>poured</td>\n",
       "      <td>uses</td>\n",
       "      <td>0.118875</td>\n",
       "    </tr>\n",
       "    <tr>\n",
       "      <th>49</th>\n",
       "      <td>poured</td>\n",
       "      <td>makes</td>\n",
       "      <td>0.249092</td>\n",
       "    </tr>\n",
       "  </tbody>\n",
       "</table>\n",
       "</div>"
      ],
      "text/plain": [
       "   True Word Predicted Word  Similarity Scores\n",
       "0        put        carries           0.291859\n",
       "1        put       collects           0.162198\n",
       "2        put          pulls           0.521544\n",
       "3        put        handles           0.296818\n",
       "4        put          opens           0.253191\n",
       "5    brought       prepares           0.241716\n",
       "6    brought         drinks           0.124600\n",
       "7    brought         orders           0.067452\n",
       "8    brought       delivers           0.188906\n",
       "9    brought         serves           0.124504\n",
       "10   crossed        follows           0.124123\n",
       "11   crossed             of           0.047131\n",
       "12   crossed        crosses           0.136119\n",
       "13   crossed        becomes           0.119062\n",
       "14   crossed          along           0.005715\n",
       "15      wore            won           0.148917\n",
       "16      wore           wins           0.088288\n",
       "17      wore       received           0.182217\n",
       "18      wore        awarded           0.144821\n",
       "19      wore         earned           0.264530\n",
       "20      rose        crosses           0.136119\n",
       "21      rose         enters           0.169295\n",
       "22      rose         drains           0.116602\n",
       "23      rose          joins           0.113202\n",
       "24      rose        reaches           0.246324\n",
       "25      took           gets           0.303922\n",
       "26      took         drinks           0.124600\n",
       "27      took          takes           0.392028\n",
       "28      took           buys           0.208096\n",
       "29      took          wants           0.229077\n",
       "30  watching       drenched           0.313376\n",
       "31  watching          fills           0.273078\n",
       "32  watching         filled           0.311715\n",
       "33  watching        flooded           0.152951\n",
       "34  watching         soaked           0.313376\n",
       "35      blew         drives           0.275019\n",
       "36      blew        strikes           0.229742\n",
       "37      blew          blows           0.297296\n",
       "38      blew             of           0.047131\n",
       "39      blew          joins           0.113202\n",
       "40       had             of           0.047131\n",
       "41       had          calls           0.204262\n",
       "42       had          joins           0.113202\n",
       "43       had         called           0.235137\n",
       "44       had        escapes           0.203528\n",
       "45    poured          wears           0.278174\n",
       "46    poured        carries           0.291859\n",
       "47    poured           owns           0.056460\n",
       "48    poured           uses           0.118875\n",
       "49    poured          makes           0.249092"
      ]
     },
     "execution_count": 63,
     "metadata": {},
     "output_type": "execute_result"
    }
   ],
   "source": [
    "comparison_df.head(100)"
   ]
  },
  {
   "cell_type": "code",
   "execution_count": 71,
   "id": "9b6a9017",
   "metadata": {
    "id": "9b6a9017",
    "outputId": "619faba7-667f-4741-f0ad-c86cee6b8791"
   },
   "outputs": [
    {
     "data": {
      "text/html": [
       "<div>\n",
       "<style scoped>\n",
       "    .dataframe tbody tr th:only-of-type {\n",
       "        vertical-align: middle;\n",
       "    }\n",
       "\n",
       "    .dataframe tbody tr th {\n",
       "        vertical-align: top;\n",
       "    }\n",
       "\n",
       "    .dataframe thead th {\n",
       "        text-align: right;\n",
       "    }\n",
       "</style>\n",
       "<table border=\"1\" class=\"dataframe\">\n",
       "  <thead>\n",
       "    <tr style=\"text-align: right;\">\n",
       "      <th></th>\n",
       "      <th>True Word</th>\n",
       "      <th>Predicted Word</th>\n",
       "      <th>Similarity Scores</th>\n",
       "    </tr>\n",
       "  </thead>\n",
       "  <tbody>\n",
       "    <tr>\n",
       "      <th>2</th>\n",
       "      <td>put</td>\n",
       "      <td>pulls</td>\n",
       "      <td>0.521544</td>\n",
       "    </tr>\n",
       "    <tr>\n",
       "      <th>27</th>\n",
       "      <td>took</td>\n",
       "      <td>takes</td>\n",
       "      <td>0.392028</td>\n",
       "    </tr>\n",
       "    <tr>\n",
       "      <th>34</th>\n",
       "      <td>watching</td>\n",
       "      <td>soaked</td>\n",
       "      <td>0.313376</td>\n",
       "    </tr>\n",
       "    <tr>\n",
       "      <th>30</th>\n",
       "      <td>watching</td>\n",
       "      <td>drenched</td>\n",
       "      <td>0.313376</td>\n",
       "    </tr>\n",
       "    <tr>\n",
       "      <th>32</th>\n",
       "      <td>watching</td>\n",
       "      <td>filled</td>\n",
       "      <td>0.311715</td>\n",
       "    </tr>\n",
       "    <tr>\n",
       "      <th>25</th>\n",
       "      <td>took</td>\n",
       "      <td>gets</td>\n",
       "      <td>0.303922</td>\n",
       "    </tr>\n",
       "    <tr>\n",
       "      <th>37</th>\n",
       "      <td>blew</td>\n",
       "      <td>blows</td>\n",
       "      <td>0.297296</td>\n",
       "    </tr>\n",
       "    <tr>\n",
       "      <th>3</th>\n",
       "      <td>put</td>\n",
       "      <td>handles</td>\n",
       "      <td>0.296818</td>\n",
       "    </tr>\n",
       "    <tr>\n",
       "      <th>46</th>\n",
       "      <td>poured</td>\n",
       "      <td>carries</td>\n",
       "      <td>0.291859</td>\n",
       "    </tr>\n",
       "    <tr>\n",
       "      <th>0</th>\n",
       "      <td>put</td>\n",
       "      <td>carries</td>\n",
       "      <td>0.291859</td>\n",
       "    </tr>\n",
       "    <tr>\n",
       "      <th>45</th>\n",
       "      <td>poured</td>\n",
       "      <td>wears</td>\n",
       "      <td>0.278174</td>\n",
       "    </tr>\n",
       "    <tr>\n",
       "      <th>35</th>\n",
       "      <td>blew</td>\n",
       "      <td>drives</td>\n",
       "      <td>0.275019</td>\n",
       "    </tr>\n",
       "    <tr>\n",
       "      <th>31</th>\n",
       "      <td>watching</td>\n",
       "      <td>fills</td>\n",
       "      <td>0.273078</td>\n",
       "    </tr>\n",
       "    <tr>\n",
       "      <th>19</th>\n",
       "      <td>wore</td>\n",
       "      <td>earned</td>\n",
       "      <td>0.264530</td>\n",
       "    </tr>\n",
       "    <tr>\n",
       "      <th>4</th>\n",
       "      <td>put</td>\n",
       "      <td>opens</td>\n",
       "      <td>0.253191</td>\n",
       "    </tr>\n",
       "    <tr>\n",
       "      <th>49</th>\n",
       "      <td>poured</td>\n",
       "      <td>makes</td>\n",
       "      <td>0.249092</td>\n",
       "    </tr>\n",
       "    <tr>\n",
       "      <th>24</th>\n",
       "      <td>rose</td>\n",
       "      <td>reaches</td>\n",
       "      <td>0.246324</td>\n",
       "    </tr>\n",
       "    <tr>\n",
       "      <th>5</th>\n",
       "      <td>brought</td>\n",
       "      <td>prepares</td>\n",
       "      <td>0.241716</td>\n",
       "    </tr>\n",
       "    <tr>\n",
       "      <th>43</th>\n",
       "      <td>had</td>\n",
       "      <td>called</td>\n",
       "      <td>0.235137</td>\n",
       "    </tr>\n",
       "    <tr>\n",
       "      <th>36</th>\n",
       "      <td>blew</td>\n",
       "      <td>strikes</td>\n",
       "      <td>0.229742</td>\n",
       "    </tr>\n",
       "    <tr>\n",
       "      <th>29</th>\n",
       "      <td>took</td>\n",
       "      <td>wants</td>\n",
       "      <td>0.229077</td>\n",
       "    </tr>\n",
       "    <tr>\n",
       "      <th>28</th>\n",
       "      <td>took</td>\n",
       "      <td>buys</td>\n",
       "      <td>0.208096</td>\n",
       "    </tr>\n",
       "    <tr>\n",
       "      <th>41</th>\n",
       "      <td>had</td>\n",
       "      <td>calls</td>\n",
       "      <td>0.204262</td>\n",
       "    </tr>\n",
       "    <tr>\n",
       "      <th>44</th>\n",
       "      <td>had</td>\n",
       "      <td>escapes</td>\n",
       "      <td>0.203528</td>\n",
       "    </tr>\n",
       "    <tr>\n",
       "      <th>8</th>\n",
       "      <td>brought</td>\n",
       "      <td>delivers</td>\n",
       "      <td>0.188906</td>\n",
       "    </tr>\n",
       "    <tr>\n",
       "      <th>17</th>\n",
       "      <td>wore</td>\n",
       "      <td>received</td>\n",
       "      <td>0.182217</td>\n",
       "    </tr>\n",
       "    <tr>\n",
       "      <th>21</th>\n",
       "      <td>rose</td>\n",
       "      <td>enters</td>\n",
       "      <td>0.169295</td>\n",
       "    </tr>\n",
       "    <tr>\n",
       "      <th>1</th>\n",
       "      <td>put</td>\n",
       "      <td>collects</td>\n",
       "      <td>0.162198</td>\n",
       "    </tr>\n",
       "    <tr>\n",
       "      <th>33</th>\n",
       "      <td>watching</td>\n",
       "      <td>flooded</td>\n",
       "      <td>0.152951</td>\n",
       "    </tr>\n",
       "    <tr>\n",
       "      <th>15</th>\n",
       "      <td>wore</td>\n",
       "      <td>won</td>\n",
       "      <td>0.148917</td>\n",
       "    </tr>\n",
       "    <tr>\n",
       "      <th>18</th>\n",
       "      <td>wore</td>\n",
       "      <td>awarded</td>\n",
       "      <td>0.144821</td>\n",
       "    </tr>\n",
       "    <tr>\n",
       "      <th>12</th>\n",
       "      <td>crossed</td>\n",
       "      <td>crosses</td>\n",
       "      <td>0.136119</td>\n",
       "    </tr>\n",
       "    <tr>\n",
       "      <th>20</th>\n",
       "      <td>rose</td>\n",
       "      <td>crosses</td>\n",
       "      <td>0.136119</td>\n",
       "    </tr>\n",
       "    <tr>\n",
       "      <th>6</th>\n",
       "      <td>brought</td>\n",
       "      <td>drinks</td>\n",
       "      <td>0.124600</td>\n",
       "    </tr>\n",
       "    <tr>\n",
       "      <th>26</th>\n",
       "      <td>took</td>\n",
       "      <td>drinks</td>\n",
       "      <td>0.124600</td>\n",
       "    </tr>\n",
       "    <tr>\n",
       "      <th>9</th>\n",
       "      <td>brought</td>\n",
       "      <td>serves</td>\n",
       "      <td>0.124504</td>\n",
       "    </tr>\n",
       "    <tr>\n",
       "      <th>10</th>\n",
       "      <td>crossed</td>\n",
       "      <td>follows</td>\n",
       "      <td>0.124123</td>\n",
       "    </tr>\n",
       "    <tr>\n",
       "      <th>13</th>\n",
       "      <td>crossed</td>\n",
       "      <td>becomes</td>\n",
       "      <td>0.119062</td>\n",
       "    </tr>\n",
       "    <tr>\n",
       "      <th>48</th>\n",
       "      <td>poured</td>\n",
       "      <td>uses</td>\n",
       "      <td>0.118875</td>\n",
       "    </tr>\n",
       "    <tr>\n",
       "      <th>22</th>\n",
       "      <td>rose</td>\n",
       "      <td>drains</td>\n",
       "      <td>0.116602</td>\n",
       "    </tr>\n",
       "    <tr>\n",
       "      <th>42</th>\n",
       "      <td>had</td>\n",
       "      <td>joins</td>\n",
       "      <td>0.113202</td>\n",
       "    </tr>\n",
       "    <tr>\n",
       "      <th>23</th>\n",
       "      <td>rose</td>\n",
       "      <td>joins</td>\n",
       "      <td>0.113202</td>\n",
       "    </tr>\n",
       "    <tr>\n",
       "      <th>39</th>\n",
       "      <td>blew</td>\n",
       "      <td>joins</td>\n",
       "      <td>0.113202</td>\n",
       "    </tr>\n",
       "    <tr>\n",
       "      <th>16</th>\n",
       "      <td>wore</td>\n",
       "      <td>wins</td>\n",
       "      <td>0.088288</td>\n",
       "    </tr>\n",
       "    <tr>\n",
       "      <th>7</th>\n",
       "      <td>brought</td>\n",
       "      <td>orders</td>\n",
       "      <td>0.067452</td>\n",
       "    </tr>\n",
       "    <tr>\n",
       "      <th>47</th>\n",
       "      <td>poured</td>\n",
       "      <td>owns</td>\n",
       "      <td>0.056460</td>\n",
       "    </tr>\n",
       "    <tr>\n",
       "      <th>40</th>\n",
       "      <td>had</td>\n",
       "      <td>of</td>\n",
       "      <td>0.047131</td>\n",
       "    </tr>\n",
       "    <tr>\n",
       "      <th>38</th>\n",
       "      <td>blew</td>\n",
       "      <td>of</td>\n",
       "      <td>0.047131</td>\n",
       "    </tr>\n",
       "    <tr>\n",
       "      <th>11</th>\n",
       "      <td>crossed</td>\n",
       "      <td>of</td>\n",
       "      <td>0.047131</td>\n",
       "    </tr>\n",
       "    <tr>\n",
       "      <th>14</th>\n",
       "      <td>crossed</td>\n",
       "      <td>along</td>\n",
       "      <td>0.005715</td>\n",
       "    </tr>\n",
       "  </tbody>\n",
       "</table>\n",
       "</div>"
      ],
      "text/plain": [
       "   True Word Predicted Word  Similarity Scores\n",
       "2        put          pulls           0.521544\n",
       "27      took          takes           0.392028\n",
       "34  watching         soaked           0.313376\n",
       "30  watching       drenched           0.313376\n",
       "32  watching         filled           0.311715\n",
       "25      took           gets           0.303922\n",
       "37      blew          blows           0.297296\n",
       "3        put        handles           0.296818\n",
       "46    poured        carries           0.291859\n",
       "0        put        carries           0.291859\n",
       "45    poured          wears           0.278174\n",
       "35      blew         drives           0.275019\n",
       "31  watching          fills           0.273078\n",
       "19      wore         earned           0.264530\n",
       "4        put          opens           0.253191\n",
       "49    poured          makes           0.249092\n",
       "24      rose        reaches           0.246324\n",
       "5    brought       prepares           0.241716\n",
       "43       had         called           0.235137\n",
       "36      blew        strikes           0.229742\n",
       "29      took          wants           0.229077\n",
       "28      took           buys           0.208096\n",
       "41       had          calls           0.204262\n",
       "44       had        escapes           0.203528\n",
       "8    brought       delivers           0.188906\n",
       "17      wore       received           0.182217\n",
       "21      rose         enters           0.169295\n",
       "1        put       collects           0.162198\n",
       "33  watching        flooded           0.152951\n",
       "15      wore            won           0.148917\n",
       "18      wore        awarded           0.144821\n",
       "12   crossed        crosses           0.136119\n",
       "20      rose        crosses           0.136119\n",
       "6    brought         drinks           0.124600\n",
       "26      took         drinks           0.124600\n",
       "9    brought         serves           0.124504\n",
       "10   crossed        follows           0.124123\n",
       "13   crossed        becomes           0.119062\n",
       "48    poured           uses           0.118875\n",
       "22      rose         drains           0.116602\n",
       "42       had          joins           0.113202\n",
       "23      rose          joins           0.113202\n",
       "39      blew          joins           0.113202\n",
       "16      wore           wins           0.088288\n",
       "7    brought         orders           0.067452\n",
       "47    poured           owns           0.056460\n",
       "40       had             of           0.047131\n",
       "38      blew             of           0.047131\n",
       "11   crossed             of           0.047131\n",
       "14   crossed          along           0.005715"
      ]
     },
     "execution_count": 71,
     "metadata": {},
     "output_type": "execute_result"
    }
   ],
   "source": [
    "comparison_df.sort_values(by = 'Similarity Scores', ascending = False).head(100)"
   ]
  },
  {
   "cell_type": "code",
   "execution_count": 65,
   "id": "ebf88934",
   "metadata": {
    "id": "ebf88934",
    "outputId": "ba88e823-99eb-465f-ee78-0ffbbc3eeb33"
   },
   "outputs": [
    {
     "data": {
      "text/plain": [
       "(50, 3)"
      ]
     },
     "execution_count": 65,
     "metadata": {},
     "output_type": "execute_result"
    }
   ],
   "source": [
    "comparison_df.shape"
   ]
  },
  {
   "cell_type": "code",
   "execution_count": 75,
   "id": "f71b846f-961b-4de9-8d96-7f7deff4812c",
   "metadata": {},
   "outputs": [],
   "source": [
    "trained_comparison_df=pd.read_csv(\"TRAINED_dataframe.csv\")"
   ]
  },
  {
   "cell_type": "code",
   "execution_count": 106,
   "id": "590f25ca-2734-49ae-8f03-7a91a656a2cd",
   "metadata": {
    "tags": []
   },
   "outputs": [],
   "source": [
    "trained_comparison_df.rename(columns={' Trained Similarity Scores':'t_score', \"Predicted Word\":\"p_word\"}, inplace=True)"
   ]
  },
  {
   "cell_type": "code",
   "execution_count": 47,
   "id": "112fdea6-68d6-44ed-8c77-24ff7c941ef0",
   "metadata": {},
   "outputs": [],
   "source": [
    "#trained_comparison_df.to_csv(\"TRAINED_dataframe.csv\", index=False)"
   ]
  },
  {
   "cell_type": "code",
   "execution_count": 68,
   "id": "89d87130-e1f0-4317-843d-1e78768ccaa4",
   "metadata": {},
   "outputs": [],
   "source": [
    "comparison_df.to_csv(\"UNtrained_dataframe.csv\", index=False)"
   ]
  },
  {
   "cell_type": "code",
   "execution_count": 76,
   "id": "fc2fc990",
   "metadata": {
    "id": "fc2fc990"
   },
   "outputs": [],
   "source": [
    "untrained_scores = list(comparison_df['Similarity Scores'])\n",
    "Trained_Scores = list(trained_comparison_df['Similarity Scores'])"
   ]
  },
  {
   "cell_type": "code",
   "execution_count": 77,
   "id": "d0aea526",
   "metadata": {
    "id": "d0aea526",
    "outputId": "7ce10da7-b68f-44fa-b017-f1fdfa278fa3"
   },
   "outputs": [
    {
     "name": "stdout",
     "output_type": "stream",
     "text": [
      "[0.29185934135161956, 0.1621982665999373, 0.5215437336347828, 0.29681770138890834, 0.2531907490224241, 0.24171591550427593, 0.12459989399562306, 0.06745186401716625, 0.18890555384810923, 0.12450392038121705, 0.12412302707452444, 0.04713127512328141, 0.13611908625761052, 0.11906245975641969, 0.00571463249034238, 0.14891743891625112, 0.08828834334846221, 0.1822173118090343, 0.14482072457475192, 0.26452964067862633, 0.13611908625761052, 0.1692948247966768, 0.116601888728782, 0.1132015856132778, 0.24632367693973703, 0.30392187445467933, 0.12459989399562306, 0.39202841855484855, 0.2080964080759544, 0.2290770900548606, 0.3133757280981856, 0.2730777904664326, 0.3117152345383825, 0.15295129545734457, 0.3133757280981856, 0.27501887545366316, 0.22974171386512388, 0.29729607113142825, 0.04713127512328141, 0.1132015856132778, 0.04713127512328141, 0.20426168974732117, 0.1132015856132778, 0.23513703560357146, 0.20352788915560635, 0.2781737240095934, 0.29185934135161956, 0.05646003632127896, 0.11887522623861468, 0.24909158554191815]\n",
      "[0.2918593413516195, 0.1621982665999373, 0.2968177013889083, 0.5215437336347828, 0.2420324966757215, 0.2417159155042759, 0.124599893995623, 0.0674518640171662, 0.4605056586310972, 0.124503920381217, 0.1241230270745244, 0.0471312751232814, 0.1361190862576105, 0.1190624597564196, 0.1132015856132778, 0.1489174389162511, 0.0882883433484622, 0.1822173118090343, 0.1448207245747519, 0.2645296406786263, 0.1361190862576105, 0.1692948247966768, 0.1132015856132778, 0.116601888728782, 0.246323676939737, 0.3039218744546793, 0.124599893995623, 0.3920284185548485, 0.2290770900548606, 0.2080964080759544, 0.3133757280981856, 0.3117152345383825, 0.2730777904664326, 0.3133757280981856, 0.1529512954573445, 0.2750188754536631, 0.2297417138651238, 0.2972960711314282, 0.1132015856132778, 0.0471312751232814, 0.0471312751232814, 0.1132015856132778, 0.2042616897473211, 0.2351370356035714, 0.2511670023858266, 0.2781737240095934, 0.2918593413516195, 0.0564600363212789, 0.2490915855419181, -0.0314816829119361]\n"
     ]
    }
   ],
   "source": [
    "print(untrained_scores)\n",
    "print(Trained_Scores)"
   ]
  },
  {
   "cell_type": "code",
   "execution_count": 138,
   "id": "8f5ef142",
   "metadata": {
    "id": "8f5ef142",
    "jupyter": {
     "source_hidden": true
    },
    "tags": []
   },
   "outputs": [],
   "source": [
    "## making some practice Trained scores to see about stat test\n",
    "def practice_scores(scores):\n",
    "    practice_trained_scores = []\n",
    "    for score in scores:\n",
    "        score += 0.2\n",
    "        practice_trained_scores.append(score)\n",
    "    return practice_trained_scores"
   ]
  },
  {
   "cell_type": "code",
   "execution_count": 139,
   "id": "e150d60d",
   "metadata": {
    "id": "e150d60d",
    "jupyter": {
     "source_hidden": true
    },
    "tags": []
   },
   "outputs": [],
   "source": [
    "practice_trained_scores = practice_scores(untrained_scores)"
   ]
  },
  {
   "cell_type": "code",
   "execution_count": 78,
   "id": "cb2d89a7",
   "metadata": {
    "id": "cb2d89a7",
    "outputId": "9639e7d6-e31c-4ba2-fe4a-dca7ef661668"
   },
   "outputs": [
    {
     "data": {
      "text/plain": [
       "(1245.0, 0.9752451603405443)"
      ]
     },
     "execution_count": 78,
     "metadata": {},
     "output_type": "execute_result"
    }
   ],
   "source": [
    "### Will then run again with the trained BERT model, get the scores from that, and then compare whether or not\n",
    "### they are different with a Man-Whitney test (maybe Chi-Square)\n",
    "def mann_whitney_u_test(distribution_1, distribution_2):\n",
    "    \"\"\"\n",
    "    Perform the Mann-Whitney U Test, comparing two different distributions.\n",
    "    Args:\n",
    "       distribution_1: List. \n",
    "       distribution_2: List.\n",
    "    Outputs:\n",
    "        u_statistic: Float. U statisitic for the test.\n",
    "        p_value: Float.\n",
    "    \"\"\"\n",
    "    u_statistic, p_value = stats.mannwhitneyu(distribution_1, distribution_2)\n",
    "    return u_statistic, p_value\n",
    "\n",
    "\n",
    "#### MAIN FUNCTION ####\n",
    "#Perform the Mann-Whitney U Test on the two distributions: Sample input\n",
    "mann_whitney_u_test(untrained_scores, Trained_Scores)"
   ]
  },
  {
   "cell_type": "markdown",
   "id": "49ffd40d",
   "metadata": {
    "id": "49ffd40d"
   },
   "source": [
    "Despite training the DistilBERT model on half of the novel, the lists of predicted words from the trained model were nearly identical to the list of predicted words from the untrained model. The null hypothesis is resoundingly confirmed."
   ]
  },
  {
   "cell_type": "code",
   "execution_count": 107,
   "id": "8c51f448-7851-4eef-a9de-000b4dadb007",
   "metadata": {},
   "outputs": [],
   "source": [
    "frames = [comparison_df, trained_comparison_df]\n",
    "\n",
    "combo_df = pd.concat(frames, axis=1)"
   ]
  },
  {
   "cell_type": "code",
   "execution_count": 128,
   "id": "ce96b4ce-59fc-439f-acf0-74ce9ff86a4e",
   "metadata": {},
   "outputs": [
    {
     "data": {
      "text/html": [
       "<div>\n",
       "<style scoped>\n",
       "    .dataframe tbody tr th:only-of-type {\n",
       "        vertical-align: middle;\n",
       "    }\n",
       "\n",
       "    .dataframe tbody tr th {\n",
       "        vertical-align: top;\n",
       "    }\n",
       "\n",
       "    .dataframe thead th {\n",
       "        text-align: right;\n",
       "    }\n",
       "</style>\n",
       "<table border=\"1\" class=\"dataframe\">\n",
       "  <thead>\n",
       "    <tr style=\"text-align: right;\">\n",
       "      <th></th>\n",
       "      <th>True Word</th>\n",
       "      <th>Predicted Word</th>\n",
       "      <th>Similarity Scores</th>\n",
       "      <th>True Word</th>\n",
       "      <th>p_word</th>\n",
       "      <th>t_score</th>\n",
       "    </tr>\n",
       "  </thead>\n",
       "  <tbody>\n",
       "    <tr>\n",
       "      <th>0</th>\n",
       "      <td>put</td>\n",
       "      <td>carries</td>\n",
       "      <td>0.291859</td>\n",
       "      <td>put</td>\n",
       "      <td>carries</td>\n",
       "      <td>0.291859</td>\n",
       "    </tr>\n",
       "    <tr>\n",
       "      <th>1</th>\n",
       "      <td>put</td>\n",
       "      <td>collects</td>\n",
       "      <td>0.162198</td>\n",
       "      <td>put</td>\n",
       "      <td>collects</td>\n",
       "      <td>0.162198</td>\n",
       "    </tr>\n",
       "    <tr>\n",
       "      <th>2</th>\n",
       "      <td>put</td>\n",
       "      <td>pulls</td>\n",
       "      <td>0.521544</td>\n",
       "      <td>put</td>\n",
       "      <td>handles</td>\n",
       "      <td>0.296818</td>\n",
       "    </tr>\n",
       "    <tr>\n",
       "      <th>3</th>\n",
       "      <td>put</td>\n",
       "      <td>handles</td>\n",
       "      <td>0.296818</td>\n",
       "      <td>put</td>\n",
       "      <td>pulls</td>\n",
       "      <td>0.521544</td>\n",
       "    </tr>\n",
       "    <tr>\n",
       "      <th>4</th>\n",
       "      <td>put</td>\n",
       "      <td>opens</td>\n",
       "      <td>0.253191</td>\n",
       "      <td>put</td>\n",
       "      <td>steals</td>\n",
       "      <td>0.242032</td>\n",
       "    </tr>\n",
       "  </tbody>\n",
       "</table>\n",
       "</div>"
      ],
      "text/plain": [
       "  True Word Predicted Word  Similarity Scores True Word    p_word   t_score\n",
       "0       put        carries           0.291859       put   carries  0.291859\n",
       "1       put       collects           0.162198       put  collects  0.162198\n",
       "2       put          pulls           0.521544       put   handles  0.296818\n",
       "3       put        handles           0.296818       put     pulls  0.521544\n",
       "4       put          opens           0.253191       put    steals  0.242032"
      ]
     },
     "execution_count": 128,
     "metadata": {},
     "output_type": "execute_result"
    }
   ],
   "source": [
    "combo_df.head()"
   ]
  },
  {
   "cell_type": "code",
   "execution_count": 129,
   "id": "9379df53-5a0a-4985-a789-71c328557edb",
   "metadata": {},
   "outputs": [],
   "source": [
    "combo_df.to_csv('combo_df.csv')"
   ]
  },
  {
   "cell_type": "code",
   "execution_count": 126,
   "id": "a066277f-a3c7-47c3-b313-a6757de7324c",
   "metadata": {},
   "outputs": [
    {
     "data": {
      "image/png": "[encoded data removed]",
      "text/plain": [
       "<Figure size 2000x1500 with 2 Axes>"
      ]
     },
     "metadata": {},
     "output_type": "display_data"
    }
   ],
   "source": [
    "import matplotlib.pyplot as plt\n",
    "\n",
    "#define colors to use\n",
    "col1 = 'steelblue'\n",
    "col2 = 'red'\n",
    "\n",
    "#define subplots\n",
    "fig,ax = plt.subplots(figsize=(20,15))\n",
    "\n",
    "\n",
    "#add first line to plot\n",
    "ax.plot(comparison_df.index, comparison_df['Similarity Scores'], color=col1)\n",
    "\n",
    "#add x-axis label\n",
    "ax.set_xlabel('Predicted Word Count', fontsize=14)\n",
    "\n",
    "#add y-axis label\n",
    "ax.set_ylabel('Similarity Scores', color=col1, fontsize=16)\n",
    "\n",
    "#define second y-axis that shares x-axis with current plot\n",
    "ax2 = ax.twinx()\n",
    "\n",
    "#add second line to plot\n",
    "ax2.plot(trained_comparison_df.index, trained_comparison_df['t_score'], color=col2)\n",
    "\n",
    "#add second y-axis label\n",
    "ax2.set_ylabel('Trained Similarity Score', color=col2, fontsize=16)\n",
    "plt.savefig('Trained vs. Untrained Model.png', format='png')"
   ]
  }
 ],
 "metadata": {
  "colab": {
   "provenance": []
  },
  "kernelspec": {
   "display_name": "Python 3 (ipykernel)",
   "language": "python",
   "name": "python3"
  },
  "language_info": {
   "codemirror_mode": {
    "name": "ipython",
    "version": 3
   },
   "file_extension": ".py",
   "mimetype": "text/x-python",
   "name": "python",
   "nbconvert_exporter": "python",
   "pygments_lexer": "ipython3",
   "version": "3.9.7"
  }
 },
 "nbformat": 4,
 "nbformat_minor": 5
}
