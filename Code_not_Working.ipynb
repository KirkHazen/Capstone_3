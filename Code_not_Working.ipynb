{
 "cells": [
  {
   "cell_type": "code",
   "execution_count": 2,
   "id": "6bf59cd2",
   "metadata": {},
   "outputs": [],
   "source": [
    "import nltk, re, string, collections"
   ]
  },
  {
   "cell_type": "code",
   "execution_count": 3,
   "id": "bf998568",
   "metadata": {},
   "outputs": [
    {
     "name": "stdout",
     "output_type": "stream",
     "text": [
      ")*^%{}[]...thi's - is \"- @@#!a !%%!!%- test...\n"
     ]
    }
   ],
   "source": [
    "#not working\n",
    "remove = string.punctuation\n",
    "remove = remove.replace(\".\", \"\") # don't remove hyphens\n",
    "match = r\"[{}]\".format(remove) # create the pattern\n",
    "\n",
    "test = \")*^%{}[]...thi's - is \\\"- @@#!a !%%!!%- test...\"\n",
    "\n",
    "print(test)"
   ]
  },
  {
   "cell_type": "code",
   "execution_count": 5,
   "id": "7ab9971a",
   "metadata": {},
   "outputs": [
    {
     "name": "stdout",
     "output_type": "stream",
     "text": [
      "!\"#$%&'()*+,-./:;<=>?@[\\]^_`{|}~\n"
     ]
    }
   ],
   "source": [
    "print(string.punctuation)"
   ]
  },
  {
   "cell_type": "code",
   "execution_count": 6,
   "id": "24cbe031",
   "metadata": {},
   "outputs": [
    {
     "name": "stdout",
     "output_type": "stream",
     "text": [
      "!\"#$%&'()*+,-/:;<=>?@[\\]^_`{|}~\n"
     ]
    }
   ],
   "source": [
    "print(remove)"
   ]
  },
  {
   "cell_type": "code",
   "execution_count": 7,
   "id": "b640b1af",
   "metadata": {},
   "outputs": [
    {
     "name": "stdout",
     "output_type": "stream",
     "text": [
      "[!\"#$%&'()*+,-/:;<=>?@[\\]^_`{|}~]\n"
     ]
    }
   ],
   "source": [
    "print(match)"
   ]
  },
  {
   "cell_type": "code",
   "execution_count": 4,
   "id": "0aebf19b",
   "metadata": {},
   "outputs": [
    {
     "name": "stdout",
     "output_type": "stream",
     "text": [
      "this  is  a  test\n"
     ]
    }
   ],
   "source": [
    "test2= re.sub(match, \"\", test) \n",
    "print(test2)"
   ]
  },
  {
   "cell_type": "code",
   "execution_count": 8,
   "id": "6f723761",
   "metadata": {},
   "outputs": [],
   "source": [
    "#translator was another option\n",
    "#test_string = \"The ! and \\\" are the best . . possible * ) , options \"\n",
    "#translator = str.maketrans('','', re.sub('\\.', '', string.punctuation))\n",
    "#new_string = test_string\n",
    "#print(test_string, new_string)"
   ]
  }
 ],
 "metadata": {
  "kernelspec": {
   "display_name": "Python 3 (ipykernel)",
   "language": "python",
   "name": "python3"
  },
  "language_info": {
   "codemirror_mode": {
    "name": "ipython",
    "version": 3
   },
   "file_extension": ".py",
   "mimetype": "text/x-python",
   "name": "python",
   "nbconvert_exporter": "python",
   "pygments_lexer": "ipython3",
   "version": "3.9.7"
  }
 },
 "nbformat": 4,
 "nbformat_minor": 5
}
